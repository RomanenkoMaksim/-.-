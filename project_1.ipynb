{
 "cells": [
  {
   "cell_type": "markdown",
   "id": "a78b63d1",
   "metadata": {
    "deletable": false,
    "editable": false,
    "id": "c81daeeb"
   },
   "source": [
    "# Исследование надежности заемщиков\n"
   ]
  },
 
  {
   "cell_type": "markdown",
   "id": "18e64b61",
   "metadata": {
    "deletable": false,
    "editable": false,
    "id": "744d7639"
   },
   "source": [
    "## Откроем таблицу и изучим общую информацию о данных"
   ]
  },
  {
   "cell_type": "markdown",
   "id": "f0ab3e7f",
   "metadata": {
    "deletable": false,
    "editable": false,
    "id": "e7a14c31"
   },
   "source": [
    "**Импортируем библиотеку pandas. Считаем данные из csv-файла в датафрейм и сохраним в переменную `data`. Путь к файлу:**\n",
    "\n",
    "`/datasets/data.csv`"
   ]
  },
  {
   "cell_type": "code",
   "execution_count": 1,
   "id": "5c468f0f",
   "metadata": {},
   "outputs": [],
   "source": [
    "import pandas as pd\n",
    "import seaborn as sns\n",
    "import matplotlib.pyplot as plt "
   ]
  },
  {
   "cell_type": "code",
   "execution_count": 2,
   "id": "a5f68c23",
   "metadata": {
    "deletable": false,
    "id": "7bcf75c9"
   },
   "outputs": [],
   "source": [
    "try:\n",
    "    data = pd.read_csv('/datasets/data.csv')\n",
    "except:\n",
    "    data = pd.read_csv('https://code.s3.yandex.net/datasets/data.csv')"
   ]
  },
  {
   "cell_type": "code",
   "execution_count": 3,
   "id": "490b98d2",
   "metadata": {},
   "outputs": [],
   "source": [
    "pd.options.display.float_format = '{:,.5f}'.format"
   ]
  },
  {
   "cell_type": "markdown",
   "id": "b931c001",
   "metadata": {
    "deletable": false,
    "editable": false,
    "id": "b8038fe3"
   },
   "source": [
    "**Выведем первые 20 строчек датафрейма `data` на экран.**"
   ]
  },
  {
   "cell_type": "code",
   "execution_count": 4,
   "id": "31ed780c",
   "metadata": {
    "deletable": false,
    "id": "2a7cab99",
    "outputId": "1a8f3ef2-d323-4ec2-ddf7-89670b5944c4"
   },
   "outputs": [
    {
     "data": {
      "text/html": [
       "<div>\n",
       "<style scoped>\n",
       "    .dataframe tbody tr th:only-of-type {\n",
       "        vertical-align: middle;\n",
       "    }\n",
       "\n",
       "    .dataframe tbody tr th {\n",
       "        vertical-align: top;\n",
       "    }\n",
       "\n",
       "    .dataframe thead th {\n",
       "        text-align: right;\n",
       "    }\n",
       "</style>\n",
       "<table border=\"1\" class=\"dataframe\">\n",
       "  <thead>\n",
       "    <tr style=\"text-align: right;\">\n",
       "      <th></th>\n",
       "      <th>children</th>\n",
       "      <th>days_employed</th>\n",
       "      <th>dob_years</th>\n",
       "      <th>education</th>\n",
       "      <th>education_id</th>\n",
       "      <th>family_status</th>\n",
       "      <th>family_status_id</th>\n",
       "      <th>gender</th>\n",
       "      <th>income_type</th>\n",
       "      <th>debt</th>\n",
       "      <th>total_income</th>\n",
       "      <th>purpose</th>\n",
       "    </tr>\n",
       "  </thead>\n",
       "  <tbody>\n",
       "    <tr>\n",
       "      <th>0</th>\n",
       "      <td>1</td>\n",
       "      <td>-8,437.67303</td>\n",
       "      <td>42</td>\n",
       "      <td>высшее</td>\n",
       "      <td>0</td>\n",
       "      <td>женат / замужем</td>\n",
       "      <td>0</td>\n",
       "      <td>F</td>\n",
       "      <td>сотрудник</td>\n",
       "      <td>0</td>\n",
       "      <td>253,875.63945</td>\n",
       "      <td>покупка жилья</td>\n",
       "    </tr>\n",
       "    <tr>\n",
       "      <th>1</th>\n",
       "      <td>1</td>\n",
       "      <td>-4,024.80375</td>\n",
       "      <td>36</td>\n",
       "      <td>среднее</td>\n",
       "      <td>1</td>\n",
       "      <td>женат / замужем</td>\n",
       "      <td>0</td>\n",
       "      <td>F</td>\n",
       "      <td>сотрудник</td>\n",
       "      <td>0</td>\n",
       "      <td>112,080.01410</td>\n",
       "      <td>приобретение автомобиля</td>\n",
       "    </tr>\n",
       "    <tr>\n",
       "      <th>2</th>\n",
       "      <td>0</td>\n",
       "      <td>-5,623.42261</td>\n",
       "      <td>33</td>\n",
       "      <td>Среднее</td>\n",
       "      <td>1</td>\n",
       "      <td>женат / замужем</td>\n",
       "      <td>0</td>\n",
       "      <td>M</td>\n",
       "      <td>сотрудник</td>\n",
       "      <td>0</td>\n",
       "      <td>145,885.95230</td>\n",
       "      <td>покупка жилья</td>\n",
       "    </tr>\n",
       "    <tr>\n",
       "      <th>3</th>\n",
       "      <td>3</td>\n",
       "      <td>-4,124.74721</td>\n",
       "      <td>32</td>\n",
       "      <td>среднее</td>\n",
       "      <td>1</td>\n",
       "      <td>женат / замужем</td>\n",
       "      <td>0</td>\n",
       "      <td>M</td>\n",
       "      <td>сотрудник</td>\n",
       "      <td>0</td>\n",
       "      <td>267,628.55033</td>\n",
       "      <td>дополнительное образование</td>\n",
       "    </tr>\n",
       "    <tr>\n",
       "      <th>4</th>\n",
       "      <td>0</td>\n",
       "      <td>340,266.07205</td>\n",
       "      <td>53</td>\n",
       "      <td>среднее</td>\n",
       "      <td>1</td>\n",
       "      <td>гражданский брак</td>\n",
       "      <td>1</td>\n",
       "      <td>F</td>\n",
       "      <td>пенсионер</td>\n",
       "      <td>0</td>\n",
       "      <td>158,616.07787</td>\n",
       "      <td>сыграть свадьбу</td>\n",
       "    </tr>\n",
       "    <tr>\n",
       "      <th>5</th>\n",
       "      <td>0</td>\n",
       "      <td>-926.18583</td>\n",
       "      <td>27</td>\n",
       "      <td>высшее</td>\n",
       "      <td>0</td>\n",
       "      <td>гражданский брак</td>\n",
       "      <td>1</td>\n",
       "      <td>M</td>\n",
       "      <td>компаньон</td>\n",
       "      <td>0</td>\n",
       "      <td>255,763.56542</td>\n",
       "      <td>покупка жилья</td>\n",
       "    </tr>\n",
       "    <tr>\n",
       "      <th>6</th>\n",
       "      <td>0</td>\n",
       "      <td>-2,879.20205</td>\n",
       "      <td>43</td>\n",
       "      <td>высшее</td>\n",
       "      <td>0</td>\n",
       "      <td>женат / замужем</td>\n",
       "      <td>0</td>\n",
       "      <td>F</td>\n",
       "      <td>компаньон</td>\n",
       "      <td>0</td>\n",
       "      <td>240,525.97192</td>\n",
       "      <td>операции с жильем</td>\n",
       "    </tr>\n",
       "    <tr>\n",
       "      <th>7</th>\n",
       "      <td>0</td>\n",
       "      <td>-152.77957</td>\n",
       "      <td>50</td>\n",
       "      <td>СРЕДНЕЕ</td>\n",
       "      <td>1</td>\n",
       "      <td>женат / замужем</td>\n",
       "      <td>0</td>\n",
       "      <td>M</td>\n",
       "      <td>сотрудник</td>\n",
       "      <td>0</td>\n",
       "      <td>135,823.93420</td>\n",
       "      <td>образование</td>\n",
       "    </tr>\n",
       "    <tr>\n",
       "      <th>8</th>\n",
       "      <td>2</td>\n",
       "      <td>-6,929.86530</td>\n",
       "      <td>35</td>\n",
       "      <td>ВЫСШЕЕ</td>\n",
       "      <td>0</td>\n",
       "      <td>гражданский брак</td>\n",
       "      <td>1</td>\n",
       "      <td>F</td>\n",
       "      <td>сотрудник</td>\n",
       "      <td>0</td>\n",
       "      <td>95,856.83242</td>\n",
       "      <td>на проведение свадьбы</td>\n",
       "    </tr>\n",
       "    <tr>\n",
       "      <th>9</th>\n",
       "      <td>0</td>\n",
       "      <td>-2,188.75645</td>\n",
       "      <td>41</td>\n",
       "      <td>среднее</td>\n",
       "      <td>1</td>\n",
       "      <td>женат / замужем</td>\n",
       "      <td>0</td>\n",
       "      <td>M</td>\n",
       "      <td>сотрудник</td>\n",
       "      <td>0</td>\n",
       "      <td>144,425.93828</td>\n",
       "      <td>покупка жилья для семьи</td>\n",
       "    </tr>\n",
       "    <tr>\n",
       "      <th>10</th>\n",
       "      <td>2</td>\n",
       "      <td>-4,171.48365</td>\n",
       "      <td>36</td>\n",
       "      <td>высшее</td>\n",
       "      <td>0</td>\n",
       "      <td>женат / замужем</td>\n",
       "      <td>0</td>\n",
       "      <td>M</td>\n",
       "      <td>компаньон</td>\n",
       "      <td>0</td>\n",
       "      <td>113,943.49146</td>\n",
       "      <td>покупка недвижимости</td>\n",
       "    </tr>\n",
       "    <tr>\n",
       "      <th>11</th>\n",
       "      <td>0</td>\n",
       "      <td>-792.70189</td>\n",
       "      <td>40</td>\n",
       "      <td>среднее</td>\n",
       "      <td>1</td>\n",
       "      <td>женат / замужем</td>\n",
       "      <td>0</td>\n",
       "      <td>F</td>\n",
       "      <td>сотрудник</td>\n",
       "      <td>0</td>\n",
       "      <td>77,069.23427</td>\n",
       "      <td>покупка коммерческой недвижимости</td>\n",
       "    </tr>\n",
       "    <tr>\n",
       "      <th>12</th>\n",
       "      <td>0</td>\n",
       "      <td>NaN</td>\n",
       "      <td>65</td>\n",
       "      <td>среднее</td>\n",
       "      <td>1</td>\n",
       "      <td>гражданский брак</td>\n",
       "      <td>1</td>\n",
       "      <td>M</td>\n",
       "      <td>пенсионер</td>\n",
       "      <td>0</td>\n",
       "      <td>NaN</td>\n",
       "      <td>сыграть свадьбу</td>\n",
       "    </tr>\n",
       "    <tr>\n",
       "      <th>13</th>\n",
       "      <td>0</td>\n",
       "      <td>-1,846.64194</td>\n",
       "      <td>54</td>\n",
       "      <td>неоконченное высшее</td>\n",
       "      <td>2</td>\n",
       "      <td>женат / замужем</td>\n",
       "      <td>0</td>\n",
       "      <td>F</td>\n",
       "      <td>сотрудник</td>\n",
       "      <td>0</td>\n",
       "      <td>130,458.22886</td>\n",
       "      <td>приобретение автомобиля</td>\n",
       "    </tr>\n",
       "    <tr>\n",
       "      <th>14</th>\n",
       "      <td>0</td>\n",
       "      <td>-1,844.95618</td>\n",
       "      <td>56</td>\n",
       "      <td>высшее</td>\n",
       "      <td>0</td>\n",
       "      <td>гражданский брак</td>\n",
       "      <td>1</td>\n",
       "      <td>F</td>\n",
       "      <td>компаньон</td>\n",
       "      <td>1</td>\n",
       "      <td>165,127.91177</td>\n",
       "      <td>покупка жилой недвижимости</td>\n",
       "    </tr>\n",
       "    <tr>\n",
       "      <th>15</th>\n",
       "      <td>1</td>\n",
       "      <td>-972.36442</td>\n",
       "      <td>26</td>\n",
       "      <td>среднее</td>\n",
       "      <td>1</td>\n",
       "      <td>женат / замужем</td>\n",
       "      <td>0</td>\n",
       "      <td>F</td>\n",
       "      <td>сотрудник</td>\n",
       "      <td>0</td>\n",
       "      <td>116,820.90445</td>\n",
       "      <td>строительство собственной недвижимости</td>\n",
       "    </tr>\n",
       "    <tr>\n",
       "      <th>16</th>\n",
       "      <td>0</td>\n",
       "      <td>-1,719.93423</td>\n",
       "      <td>35</td>\n",
       "      <td>среднее</td>\n",
       "      <td>1</td>\n",
       "      <td>женат / замужем</td>\n",
       "      <td>0</td>\n",
       "      <td>F</td>\n",
       "      <td>сотрудник</td>\n",
       "      <td>0</td>\n",
       "      <td>289,202.70423</td>\n",
       "      <td>недвижимость</td>\n",
       "    </tr>\n",
       "    <tr>\n",
       "      <th>17</th>\n",
       "      <td>0</td>\n",
       "      <td>-2,369.99972</td>\n",
       "      <td>33</td>\n",
       "      <td>высшее</td>\n",
       "      <td>0</td>\n",
       "      <td>гражданский брак</td>\n",
       "      <td>1</td>\n",
       "      <td>M</td>\n",
       "      <td>сотрудник</td>\n",
       "      <td>0</td>\n",
       "      <td>90,410.58674</td>\n",
       "      <td>строительство недвижимости</td>\n",
       "    </tr>\n",
       "    <tr>\n",
       "      <th>18</th>\n",
       "      <td>0</td>\n",
       "      <td>400,281.13691</td>\n",
       "      <td>53</td>\n",
       "      <td>среднее</td>\n",
       "      <td>1</td>\n",
       "      <td>вдовец / вдова</td>\n",
       "      <td>2</td>\n",
       "      <td>F</td>\n",
       "      <td>пенсионер</td>\n",
       "      <td>0</td>\n",
       "      <td>56,823.77724</td>\n",
       "      <td>на покупку подержанного автомобиля</td>\n",
       "    </tr>\n",
       "    <tr>\n",
       "      <th>19</th>\n",
       "      <td>0</td>\n",
       "      <td>-10,038.81855</td>\n",
       "      <td>48</td>\n",
       "      <td>СРЕДНЕЕ</td>\n",
       "      <td>1</td>\n",
       "      <td>в разводе</td>\n",
       "      <td>3</td>\n",
       "      <td>F</td>\n",
       "      <td>сотрудник</td>\n",
       "      <td>0</td>\n",
       "      <td>242,831.10798</td>\n",
       "      <td>на покупку своего автомобиля</td>\n",
       "    </tr>\n",
       "  </tbody>\n",
       "</table>\n",
       "</div>"
      ],
      "text/plain": [
       "    children  days_employed  dob_years            education  education_id  \\\n",
       "0          1   -8,437.67303         42               высшее             0   \n",
       "1          1   -4,024.80375         36              среднее             1   \n",
       "2          0   -5,623.42261         33              Среднее             1   \n",
       "3          3   -4,124.74721         32              среднее             1   \n",
       "4          0  340,266.07205         53              среднее             1   \n",
       "5          0     -926.18583         27               высшее             0   \n",
       "6          0   -2,879.20205         43               высшее             0   \n",
       "7          0     -152.77957         50              СРЕДНЕЕ             1   \n",
       "8          2   -6,929.86530         35               ВЫСШЕЕ             0   \n",
       "9          0   -2,188.75645         41              среднее             1   \n",
       "10         2   -4,171.48365         36               высшее             0   \n",
       "11         0     -792.70189         40              среднее             1   \n",
       "12         0            NaN         65              среднее             1   \n",
       "13         0   -1,846.64194         54  неоконченное высшее             2   \n",
       "14         0   -1,844.95618         56               высшее             0   \n",
       "15         1     -972.36442         26              среднее             1   \n",
       "16         0   -1,719.93423         35              среднее             1   \n",
       "17         0   -2,369.99972         33               высшее             0   \n",
       "18         0  400,281.13691         53              среднее             1   \n",
       "19         0  -10,038.81855         48              СРЕДНЕЕ             1   \n",
       "\n",
       "       family_status  family_status_id gender income_type  debt  total_income  \\\n",
       "0    женат / замужем                 0      F   сотрудник     0 253,875.63945   \n",
       "1    женат / замужем                 0      F   сотрудник     0 112,080.01410   \n",
       "2    женат / замужем                 0      M   сотрудник     0 145,885.95230   \n",
       "3    женат / замужем                 0      M   сотрудник     0 267,628.55033   \n",
       "4   гражданский брак                 1      F   пенсионер     0 158,616.07787   \n",
       "5   гражданский брак                 1      M   компаньон     0 255,763.56542   \n",
       "6    женат / замужем                 0      F   компаньон     0 240,525.97192   \n",
       "7    женат / замужем                 0      M   сотрудник     0 135,823.93420   \n",
       "8   гражданский брак                 1      F   сотрудник     0  95,856.83242   \n",
       "9    женат / замужем                 0      M   сотрудник     0 144,425.93828   \n",
       "10   женат / замужем                 0      M   компаньон     0 113,943.49146   \n",
       "11   женат / замужем                 0      F   сотрудник     0  77,069.23427   \n",
       "12  гражданский брак                 1      M   пенсионер     0           NaN   \n",
       "13   женат / замужем                 0      F   сотрудник     0 130,458.22886   \n",
       "14  гражданский брак                 1      F   компаньон     1 165,127.91177   \n",
       "15   женат / замужем                 0      F   сотрудник     0 116,820.90445   \n",
       "16   женат / замужем                 0      F   сотрудник     0 289,202.70423   \n",
       "17  гражданский брак                 1      M   сотрудник     0  90,410.58674   \n",
       "18    вдовец / вдова                 2      F   пенсионер     0  56,823.77724   \n",
       "19         в разводе                 3      F   сотрудник     0 242,831.10798   \n",
       "\n",
       "                                   purpose  \n",
       "0                            покупка жилья  \n",
       "1                  приобретение автомобиля  \n",
       "2                            покупка жилья  \n",
       "3               дополнительное образование  \n",
       "4                          сыграть свадьбу  \n",
       "5                            покупка жилья  \n",
       "6                        операции с жильем  \n",
       "7                              образование  \n",
       "8                    на проведение свадьбы  \n",
       "9                  покупка жилья для семьи  \n",
       "10                    покупка недвижимости  \n",
       "11       покупка коммерческой недвижимости  \n",
       "12                         сыграть свадьбу  \n",
       "13                 приобретение автомобиля  \n",
       "14              покупка жилой недвижимости  \n",
       "15  строительство собственной недвижимости  \n",
       "16                            недвижимость  \n",
       "17              строительство недвижимости  \n",
       "18      на покупку подержанного автомобиля  \n",
       "19            на покупку своего автомобиля  "
      ]
     },
     "execution_count": 4,
     "metadata": {},
     "output_type": "execute_result"
    }
   ],
   "source": [
    "data.head(20)"
   ]
  },
  {
   "cell_type": "markdown",
   "id": "aea46e9f",
   "metadata": {
    "deletable": false,
    "editable": false,
    "id": "1c12e233"
   },
   "source": [
    "**Выведем основную информацию о датафрейме с помощью метода `info()`.**"
   ]
  },
  {
   "cell_type": "code",
   "execution_count": 5,
   "id": "4a033a19",
   "metadata": {
    "deletable": false,
    "id": "2b757bca",
    "outputId": "15376089-8dad-46c9-b520-c05248d43158"
   },
   "outputs": [
    {
     "name": "stdout",
     "output_type": "stream",
     "text": [
      "<class 'pandas.core.frame.DataFrame'>\n",
      "RangeIndex: 21525 entries, 0 to 21524\n",
      "Data columns (total 12 columns):\n",
      " #   Column            Non-Null Count  Dtype  \n",
      "---  ------            --------------  -----  \n",
      " 0   children          21525 non-null  int64  \n",
      " 1   days_employed     19351 non-null  float64\n",
      " 2   dob_years         21525 non-null  int64  \n",
      " 3   education         21525 non-null  object \n",
      " 4   education_id      21525 non-null  int64  \n",
      " 5   family_status     21525 non-null  object \n",
      " 6   family_status_id  21525 non-null  int64  \n",
      " 7   gender            21525 non-null  object \n",
      " 8   income_type       21525 non-null  object \n",
      " 9   debt              21525 non-null  int64  \n",
      " 10  total_income      19351 non-null  float64\n",
      " 11  purpose           21525 non-null  object \n",
      "dtypes: float64(2), int64(5), object(5)\n",
      "memory usage: 2.0+ MB\n"
     ]
    }
   ],
   "source": [
    "data.info()"
   ]
  },
  {
   "cell_type": "markdown",
   "id": "b06d96de",
   "metadata": {
    "deletable": false,
    "editable": false,
    "id": "333ec665"
   },
   "source": [
    "## Предобработка данных"
   ]
  },
  {
   "cell_type": "markdown",
   "id": "1b62ecfd",
   "metadata": {
    "deletable": false,
    "editable": false,
    "id": "02d92d53"
   },
   "source": [
    "### Удаление пропусков"
   ]
  },
  {
   "cell_type": "markdown",
   "id": "5d727179",
   "metadata": {
    "deletable": false,
    "editable": false,
    "id": "cd84967c"
   },
   "source": [
    "**Количество пропущенных значений для каждого столбца.**"
   ]
  },
  {
   "cell_type": "code",
   "execution_count": 6,
   "id": "f17e7dca",
   "metadata": {
    "deletable": false,
    "id": "7f9b2309",
    "outputId": "81f4d817-781c-465c-ed15-91ce4446810d"
   },
   "outputs": [
    {
     "data": {
      "text/plain": [
       "children               0\n",
       "days_employed       2174\n",
       "dob_years              0\n",
       "education              0\n",
       "education_id           0\n",
       "family_status          0\n",
       "family_status_id       0\n",
       "gender                 0\n",
       "income_type            0\n",
       "debt                   0\n",
       "total_income        2174\n",
       "purpose                0\n",
       "dtype: int64"
      ]
     },
     "execution_count": 6,
     "metadata": {},
     "output_type": "execute_result"
    }
   ],
   "source": [
    "data.isna().sum()"
   ]
  },
  {
   "cell_type": "markdown",
   "id": "9da5a447",
   "metadata": {
    "deletable": false,
    "editable": false,
    "id": "db86e27b"
   },
   "source": [
    "**В двух столбцах есть пропущенные значения. Один из них — `days_employed`. ПДругой столбец с пропущенными значениями — `total_income` — хранит данные о доходах. На сумму дохода сильнее всего влияет тип занятости, поэтому заполнить пропуски в этом столбце нужно медианным значением по каждому типу из столбца `income_type`. Например, у человека с типом занятости `сотрудник` пропуск в столбце `total_income` должен быть заполнен медианным доходом среди всех записей с тем же типом.**"
   ]
  },
  {
   "cell_type": "code",
   "execution_count": 7,
   "id": "785bb965",
   "metadata": {
    "deletable": false,
    "id": "42006a93"
   },
   "outputs": [],
   "source": [
    "for t in data['income_type'].unique():\n",
    "    data.loc[(data['income_type'] == t) & (data['total_income'].isna()), 'total_income'] = \\\n",
    "    data.loc[(data['income_type'] == t), 'total_income'].median()"
   ]
  },
  {
   "cell_type": "markdown",
   "id": "2ce8e1d2",
   "metadata": {
    "deletable": false,
    "editable": false,
    "id": "89da5ece"
   },
   "source": [
    "### Обработка аномальных значений"
   ]
  },
  {
   "cell_type": "markdown",
   "id": "f3a7136a",
   "metadata": {
    "deletable": false,
    "editable": false,
    "id": "57964554"
   },
   "source": [
    "**В данных встречаются артефакты (аномалии) — значения, которые не отражают действительность и появились по какой-то ошибке. Таким артефактом будет отрицательное количество дней трудового стажа в столбце `days_employed`. Для реальных данных это нормально. Обработаем значения в этом столбце: заменим все отрицательные значения положительными с помощью метода `abs()`.**"
   ]
  },
  {
   "cell_type": "code",
   "execution_count": 8,
   "id": "abb942aa",
   "metadata": {
    "deletable": false,
    "id": "f6f055bf"
   },
   "outputs": [],
   "source": [
    "data['days_employed'] = data['days_employed'].abs()"
   ]
  },
  {
   "cell_type": "markdown",
   "id": "5909f65e",
   "metadata": {
    "deletable": false,
    "editable": false,
    "id": "6107dd2f"
   },
   "source": [
    "**Для каждого типа занятости выведем медианное значение трудового стажа `days_employed` в днях.**"
   ]
  },
  {
   "cell_type": "code",
   "execution_count": 9,
   "id": "d3b70c88",
   "metadata": {
    "deletable": false,
    "id": "85a5faf6",
    "outputId": "801ef80e-522b-4668-f34e-565af7432bcf"
   },
   "outputs": [
    {
     "data": {
      "text/plain": [
       "income_type\n",
       "безработный       366,413.65274\n",
       "в декрете           3,296.75996\n",
       "госслужащий         2,689.36835\n",
       "компаньон           1,547.38222\n",
       "пенсионер         365,213.30627\n",
       "предприниматель       520.84808\n",
       "сотрудник           1,574.20282\n",
       "студент               578.75155\n",
       "Name: days_employed, dtype: float64"
      ]
     },
     "execution_count": 9,
     "metadata": {},
     "output_type": "execute_result"
    }
   ],
   "source": [
    "data.groupby('income_type')['days_employed'].agg('median')"
   ]
  },
  {
   "cell_type": "markdown",
   "id": "6ca321c0",
   "metadata": {
    "deletable": false,
    "editable": false,
    "id": "38d1a030"
   },
   "source": [
    "У двух типов (безработные и пенсионеры) получатся аномально большие значения. Исправить такие значения сложно, поэтому оставьте их как есть. Тем более этот столбец не понадобится вам для исследования."
   ]
  },
  {
   "cell_type": "markdown",
   "id": "4400c2b7",
   "metadata": {
    "deletable": false,
    "editable": false,
    "id": "d8a9f147"
   },
   "source": [
    "**Перечень уникальных значений столбца `children`.**"
   ]
  },
  {
   "cell_type": "code",
   "execution_count": 10,
   "id": "4c6be8f1",
   "metadata": {
    "deletable": false,
    "id": "ef5056eb",
    "outputId": "6975b15c-7f95-4697-d16d-a0c79b657b03"
   },
   "outputs": [
    {
     "data": {
      "text/plain": [
       "array([ 1,  0,  3,  2, -1,  4, 20,  5])"
      ]
     },
     "execution_count": 10,
     "metadata": {},
     "output_type": "execute_result"
    }
   ],
   "source": [
    "data['children'].unique()"
   ]
  },
  {
   "cell_type": "markdown",
   "id": "42db5104",
   "metadata": {
    "deletable": false,
    "editable": false,
    "id": "40b9ebf2"
   },
   "source": [
    "** В столбце `children` есть два аномальных значения. Удалим строки, в которых встречаются такие аномальные значения из датафрейма `data`.**"
   ]
  },
  {
   "cell_type": "code",
   "execution_count": 11,
   "id": "d81997be",
   "metadata": {
    "deletable": false,
    "id": "3ff9801d"
   },
   "outputs": [],
   "source": [
    "data = data[(data['children'] != -1) & (data['children'] != 20)]"
   ]
  },
  {
   "cell_type": "markdown",
   "id": "476422b3",
   "metadata": {
    "deletable": false,
    "editable": false,
    "id": "bbc4d0ce"
   },
   "source": [
    "**Ещё раз выведем перечень уникальных значений столбца `children`, чтобы убедиться, что артефакты удалены.**"
   ]
  },
  {
   "cell_type": "code",
   "execution_count": 12,
   "id": "766f3364",
   "metadata": {
    "deletable": false,
    "id": "ad4fa8b7",
    "outputId": "b2097101-d49d-44d9-901b-32a65c9463d1"
   },
   "outputs": [
    {
     "data": {
      "text/plain": [
       "array([1, 0, 3, 2, 4, 5])"
      ]
     },
     "execution_count": 12,
     "metadata": {},
     "output_type": "execute_result"
    }
   ],
   "source": [
    "data['children'].unique()"
   ]
  },
  {
   "cell_type": "markdown",
   "id": "a21fb316",
   "metadata": {
    "deletable": false,
    "editable": false,
    "id": "75440b63"
   },
   "source": [
    "### Удаление пропусков (продолжение)"
   ]
  },
  {
   "cell_type": "markdown",
   "id": "3e43aaf1",
   "metadata": {
    "deletable": false,
    "editable": false,
    "id": "f4ea573f"
   },
   "source": [
    "**Заполним пропуски в столбце `days_employed` медианными значениями по каждого типа занятости `income_type`.**"
   ]
  },
  {
   "cell_type": "code",
   "execution_count": 13,
   "id": "5788d62a",
   "metadata": {
    "deletable": false,
    "id": "af6b1a7e"
   },
   "outputs": [],
   "source": [
    "for t in data['income_type'].unique():\n",
    "    data.loc[(data['income_type'] == t) & (data['days_employed'].isna()), 'days_employed'] = \\\n",
    "    data.loc[(data['income_type'] == t), 'days_employed'].median()"
   ]
  },
  {
   "cell_type": "markdown",
   "id": "15a77ed8",
   "metadata": {
    "deletable": false,
    "editable": false,
    "id": "2753f40d"
   },
   "source": [
    "**Убедимся, что все пропуски заполнены.**"
   ]
  },
  {
   "cell_type": "code",
   "execution_count": 14,
   "id": "fb7373c2",
   "metadata": {
    "deletable": false,
    "id": "55f78bc2",
    "outputId": "8da1e4e1-358e-4e87-98c9-f261bce0a7b2"
   },
   "outputs": [
    {
     "data": {
      "text/plain": [
       "children            0\n",
       "days_employed       0\n",
       "dob_years           0\n",
       "education           0\n",
       "education_id        0\n",
       "family_status       0\n",
       "family_status_id    0\n",
       "gender              0\n",
       "income_type         0\n",
       "debt                0\n",
       "total_income        0\n",
       "purpose             0\n",
       "dtype: int64"
      ]
     },
     "execution_count": 14,
     "metadata": {},
     "output_type": "execute_result"
    }
   ],
   "source": [
    "data.isna().sum()"
   ]
  },
  {
   "cell_type": "markdown",
   "id": "0c114c0b",
   "metadata": {
    "deletable": false,
    "editable": false,
    "id": "ddc81e43"
   },
   "source": [
    "### Изменение типов данных"
   ]
  },
  {
   "cell_type": "markdown",
   "id": "b0fb8362",
   "metadata": {
    "deletable": false,
    "editable": false,
    "id": "42d19d24"
   },
   "source": [
    "**Заменим вещественный тип данных в столбце `total_income` на целочисленный с помощью метода `astype()`.**"
   ]
  },
  {
   "cell_type": "code",
   "execution_count": 15,
   "id": "9c4944b6",
   "metadata": {
    "deletable": false,
    "id": "920b65ad"
   },
   "outputs": [],
   "source": [
    "data['total_income'] = data['total_income'].astype(int)"
   ]
  },
  {
   "cell_type": "markdown",
   "id": "eb1855c5",
   "metadata": {
    "deletable": false,
    "editable": false,
    "id": "80c420ba"
   },
   "source": [
    "### Обработка дубликатов"
   ]
  },
  {
   "cell_type": "markdown",
   "id": "c1e94b05",
   "metadata": {
    "deletable": false,
    "editable": false
   },
   "source": [
    "**Обработаем неявные дубликаты в столбце `education`. В этом столбце есть одни и те же значения, но записанные по-разному: с использованием заглавных и строчных букв. **"
   ]
  },
  {
   "cell_type": "code",
   "execution_count": 16,
   "id": "faf31cc1",
   "metadata": {
    "deletable": false
   },
   "outputs": [],
   "source": [
    "data['education'] = data['education'].str.lower()"
   ]
  },
  {
   "cell_type": "markdown",
   "id": "e6d2c6e8",
   "metadata": {
    "deletable": false,
    "editable": false,
    "id": "dc587695"
   },
   "source": [
    "**Выведем на экран количество строк-дубликатов в данных.**"
   ]
  },
  {
   "cell_type": "code",
   "execution_count": 17,
   "id": "fd7c5d72",
   "metadata": {
    "deletable": false,
    "id": "3ee445e4",
    "outputId": "9684deba-1934-42d1-99e1-cda61740f822"
   },
   "outputs": [
    {
     "data": {
      "text/plain": [
       "71"
      ]
     },
     "execution_count": 17,
     "metadata": {},
     "output_type": "execute_result"
    }
   ],
   "source": [
    "data.duplicated().sum()"
   ]
  },
  {
   "cell_type": "code",
   "execution_count": 18,
   "id": "dda44f69",
   "metadata": {
    "deletable": false,
    "id": "8575fe05"
   },
   "outputs": [],
   "source": [
    "data = data.drop_duplicates()"
   ]
  },
  {
   "cell_type": "markdown",
   "id": "46a1c85b",
   "metadata": {
    "deletable": false,
    "editable": false,
    "id": "9904cf55"
   },
   "source": [
    "### Категоризация данных"
   ]
  },
  {
   "cell_type": "markdown",
   "id": "52b2d37c",
   "metadata": {
    "deletable": false,
    "editable": false,
    "id": "72fcc8a2"
   },
   "source": [
    "**На основании диапазонов, указанных ниже, создадим в датафрейме `data` столбец `total_income_category` с категориями:**\n",
    "\n",
    "- 0–30000 — `'E'`;\n",
    "- 30001–50000 — `'D'`;\n",
    "- 50001–200000 — `'C'`;\n",
    "- 200001–1000000 — `'B'`;\n",
    "- 1000001 и выше — `'A'`.\n",
    "\n",
    "\n",
 **"
   ]
  },
  {
   "cell_type": "code",
   "execution_count": 19,
   "id": "6dc08ea1",
   "metadata": {
    "deletable": false,
    "id": "e1771346"
   },
   "outputs": [],
   "source": [
    "def categorize_income(income):\n",
    "    try:\n",
    "        if 0 <= income <= 30000:\n",
    "            return 'E'\n",
    "        elif 30001 <= income <= 50000:\n",
    "            return 'D'\n",
    "        elif 50001 <= income <= 200000:\n",
    "            return 'C'\n",
    "        elif 200001 <= income <= 1000000:\n",
    "            return 'B'\n",
    "        elif income >= 1000001:\n",
    "            return 'A'\n",
    "    except:\n",
    "        pass"
   ]
  },
  {
   "cell_type": "code",
   "execution_count": 20,
   "id": "7a4a71a2",
   "metadata": {
    "deletable": false,
    "id": "d5f3586d"
   },
   "outputs": [
    {
     "data": {
      "text/plain": [
       "C    15921\n",
       "B     5014\n",
       "D      349\n",
       "A       25\n",
       "E       22\n",
       "Name: total_income_category, dtype: int64"
      ]
     },
     "execution_count": 20,
     "metadata": {},
     "output_type": "execute_result"
    }
   ],
   "source": [
    "data['total_income_category'] = data['total_income'].apply(categorize_income)\n",
    "data['total_income_category'].value_counts()"
   ]
  },
  {
   "cell_type": "markdown",
   "id": "f36b40d6",
   "metadata": {
    "deletable": false,
    "editable": false,
    "id": "dde49b5c"
   },
   "source": [
    "**Выведем на экран перечень уникальных целей взятия кредита из столбца `purpose`.**"
   ]
  },
  {
   "cell_type": "code",
   "execution_count": 21,
   "id": "d6361e15",
   "metadata": {
    "deletable": false,
    "id": "f67ce9b3",
    "outputId": "673c12d9-7d7e-4ae0-9812-c622c89dd244"
   },
   "outputs": [
    {
     "data": {
      "text/plain": [
       "array(['покупка жилья', 'приобретение автомобиля',\n",
       "       'дополнительное образование', 'сыграть свадьбу',\n",
       "       'операции с жильем', 'образование', 'на проведение свадьбы',\n",
       "       'покупка жилья для семьи', 'покупка недвижимости',\n",
       "       'покупка коммерческой недвижимости', 'покупка жилой недвижимости',\n",
       "       'строительство собственной недвижимости', 'недвижимость',\n",
       "       'строительство недвижимости', 'на покупку подержанного автомобиля',\n",
       "       'на покупку своего автомобиля',\n",
       "       'операции с коммерческой недвижимостью',\n",
       "       'строительство жилой недвижимости', 'жилье',\n",
       "       'операции со своей недвижимостью', 'автомобили',\n",
       "       'заняться образованием', 'сделка с подержанным автомобилем',\n",
       "       'получение образования', 'автомобиль', 'свадьба',\n",
       "       'получение дополнительного образования', 'покупка своего жилья',\n",
       "       'операции с недвижимостью', 'получение высшего образования',\n",
       "       'свой автомобиль', 'сделка с автомобилем',\n",
       "       'профильное образование', 'высшее образование',\n",
       "       'покупка жилья для сдачи', 'на покупку автомобиля', 'ремонт жилью',\n",
       "       'заняться высшим образованием'], dtype=object)"
      ]
     },
     "execution_count": 21,
     "metadata": {},
     "output_type": "execute_result"
    }
   ],
   "source": [
    "data['purpose'].unique()"
   ]
  },
  {
   "cell_type": "markdown",
   "id": "3266a5e2",
   "metadata": {
    "deletable": false,
    "editable": false,
    "id": "85d0aef0"
   },
   "source": [
    "**Создадим функцию, которая на основании данных из столбца `purpose` сформирует новый столбец `purpose_category`, в который войдут следующие категории:**\n",
    "\n",
    "- `'операции с автомобилем'`,\n",
    "- `'операции с недвижимостью'`,\n",
    "- `'проведение свадьбы'`,\n",
    "- `'получение образования'`.\n",
    "\n"
   ]
  },
  {
   "cell_type": "code",
   "execution_count": 22,
   "id": "aa32bd53",
   "metadata": {
    "deletable": false,
    "id": "e149fab4"
   },
   "outputs": [],
   "source": [
    "def categorize_purpose(row):\n",
    "    try:\n",
    "        if 'автом' in row:\n",
    "            return 'операции с автомобилем'\n",
    "        elif 'жил' in row or 'недвиж' in row:\n",
    "            return 'операции с недвижимостью'\n",
    "        elif 'свад' in row:\n",
    "            return 'проведение свадьбы'\n",
    "        elif 'образов' in row:\n",
    "            return 'получение образования'\n",
    "    except:\n",
    "        return 'нет категории'"
   ]
  },
  {
   "cell_type": "code",
   "execution_count": 23,
   "id": "327fe992",
   "metadata": {
    "deletable": false,
    "id": "bf36e69b"
   },
   "outputs": [
    {
     "data": {
      "text/plain": [
       "операции с недвижимостью    10751\n",
       "операции с автомобилем       4279\n",
       "получение образования        3988\n",
       "проведение свадьбы           2313\n",
       "Name: purpose_category, dtype: int64"
      ]
     },
     "execution_count": 23,
     "metadata": {},
     "output_type": "execute_result"
    }
   ],
   "source": [
    "data['purpose_category'] = data['purpose'].apply(categorize_purpose)\n",
    "data['purpose_category'].value_counts()"
   ]
  },
  {
   "cell_type": "markdown",
   "id": "5e9f229f",
   "metadata": {
    "deletable": false,
    "editable": false,
    "id": "09b242bf"
   },
   "source": [
    "### Шаг 3. Исследуйте данные и ответьте на вопросы"
   ]
  },
  {
   "cell_type": "markdown",
   "id": "f3836b4b",
   "metadata": {
    "deletable": false,
    "editable": false,
    "id": "c5d66278"
   },
   "source": [
    "#### 3.1 Есть ли зависимость между количеством детей и возвратом кредита в срок?"
   ]
  },
  {
   "cell_type": "code",
   "execution_count": 24,
   "id": "e632b6d8",
   "metadata": {
    "deletable": false,
    "id": "2cacfc4a"
   },
   "outputs": [
    {
     "data": {
      "text/html": [
       "<div>\n",
       "<style scoped>\n",
       "    .dataframe tbody tr th:only-of-type {\n",
       "        vertical-align: middle;\n",
       "    }\n",
       "\n",
       "    .dataframe tbody tr th {\n",
       "        vertical-align: top;\n",
       "    }\n",
       "\n",
       "    .dataframe thead th {\n",
       "        text-align: right;\n",
       "    }\n",
       "</style>\n",
       "<table border=\"1\" class=\"dataframe\">\n",
       "  <thead>\n",
       "    <tr style=\"text-align: right;\">\n",
       "      <th></th>\n",
       "      <th>children</th>\n",
       "      <th>debt</th>\n",
       "      <th>all</th>\n",
       "      <th>mean</th>\n",
       "      <th>percent_from_all</th>\n",
       "    </tr>\n",
       "  </thead>\n",
       "  <tbody>\n",
       "    <tr>\n",
       "      <th>0</th>\n",
       "      <td>5</td>\n",
       "      <td>0</td>\n",
       "      <td>9</td>\n",
       "      <td>0.00000</td>\n",
       "      <td>0.04000</td>\n",
       "    </tr>\n",
       "    <tr>\n",
       "      <th>1</th>\n",
       "      <td>0</td>\n",
       "      <td>1063</td>\n",
       "      <td>14091</td>\n",
       "      <td>7.50000</td>\n",
       "      <td>66.06000</td>\n",
       "    </tr>\n",
       "    <tr>\n",
       "      <th>2</th>\n",
       "      <td>3</td>\n",
       "      <td>27</td>\n",
       "      <td>330</td>\n",
       "      <td>8.20000</td>\n",
       "      <td>1.55000</td>\n",
       "    </tr>\n",
       "    <tr>\n",
       "      <th>3</th>\n",
       "      <td>1</td>\n",
       "      <td>444</td>\n",
       "      <td>4808</td>\n",
       "      <td>9.20000</td>\n",
       "      <td>22.54000</td>\n",
       "    </tr>\n",
       "    <tr>\n",
       "      <th>4</th>\n",
       "      <td>2</td>\n",
       "      <td>194</td>\n",
       "      <td>2052</td>\n",
       "      <td>9.50000</td>\n",
       "      <td>9.62000</td>\n",
       "    </tr>\n",
       "    <tr>\n",
       "      <th>5</th>\n",
       "      <td>4</td>\n",
       "      <td>4</td>\n",
       "      <td>41</td>\n",
       "      <td>9.80000</td>\n",
       "      <td>0.19000</td>\n",
       "    </tr>\n",
       "  </tbody>\n",
       "</table>\n",
       "</div>"
      ],
      "text/plain": [
       "  children  debt    all    mean  percent_from_all\n",
       "0        5     0      9 0.00000           0.04000\n",
       "1        0  1063  14091 7.50000          66.06000\n",
       "2        3    27    330 8.20000           1.55000\n",
       "3        1   444   4808 9.20000          22.54000\n",
       "4        2   194   2052 9.50000           9.62000\n",
       "5        4     4     41 9.80000           0.19000"
      ]
     },
     "metadata": {},
     "output_type": "display_data"
    }
   ],
   "source": [
    "data_pivot_children = data.pivot_table(index=['children'], values = 'debt', aggfunc=['sum', 'count', 'mean'])\n",
    "data_pivot_children.columns = ['debt', 'all', 'mean']\n",
    "data_pivot_children['mean'] = data_pivot_children['mean'].round(3) * 100\n",
    "data_pivot_children['percent_from_all'] = ((data_pivot_children['all'] / data_pivot_children['all'].sum()) * 100).round(2)\n",
    "data_pivot_children = data_pivot_children.sort_values(by= 'mean').reset_index()\n",
    "data_pivot_children['children'] = data_pivot_children['children'].astype('str')\n",
    "display(data_pivot_children)\n",
    "\n",
    "#data_pivot_children_teori = data.pivot_table(index=['children', 'total_income_category'], values = 'debt', aggfunc=len)\n"
   ]
  },
  {
   "cell_type": "code",
   "execution_count": 25,
   "id": "ad2f1eaa",
   "metadata": {},
   "outputs": [
    {
     "data": {
      "image/png": "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\n",
      "text/plain": [
       "<Figure size 432x288 with 1 Axes>"
      ]
     },
     "metadata": {
      "needs_background": "light"
     },
     "output_type": "display_data"
    }
   ],
   "source": [
    "plt.title('Зависимость между количеством детей и возвратом кредита')\n",
    "sns.barplot(x='mean', y='children', data=data_pivot_children)\n",
    "plt.show()"
   ]
  },
  {
   "cell_type": "markdown",
   "id": "2a83f509",
   "metadata": {
    "deletable": false,
    "id": "3a6b99ec"
   },
   "source": [
    "**При анализе данных с выборки по количеству детей первоначально можно сделать вывод, что самые добросовестные кредитозаниматели - это люди, у которых либо нет детей, либо их 3 или 4. Однако, при сравнении каждой категории с общим числом, можно проследить, что из 6 категорий 98,22% составляют семьи без детей, с одним или двумя. Для формулирования вывода, считаю целесообразным, отбросить категории, составляющие в общем объёме менее 2%. Соответственно: Есть достаточно ощутимое изменение между возвратом кредита в срок между заёмщиками без детей и с одним и более. При наличии в семье от одного ребёнка и больше процент того, что кредит не будет погашен в срок возрастает на 22%.** "
   ]
  },
  {
   "cell_type": "markdown",
   "id": "7940eddb",
   "metadata": {
    "deletable": false,
    "editable": false,
    "id": "97be82ca"
   },
   "source": [
    "#### 3.2 Есть ли зависимость между семейным положением и возвратом кредита в срок?"
   ]
  },
  {
   "cell_type": "code",
   "execution_count": 27,
   "id": "ac1d8d13",
   "metadata": {
    "deletable": false,
    "id": "dc3f7ee8"
   },
   "outputs": [
    {
     "data": {
      "text/html": [
       "<div>\n",
       "<style scoped>\n",
       "    .dataframe tbody tr th:only-of-type {\n",
       "        vertical-align: middle;\n",
       "    }\n",
       "\n",
       "    .dataframe tbody tr th {\n",
       "        vertical-align: top;\n",
       "    }\n",
       "\n",
       "    .dataframe thead th {\n",
       "        text-align: right;\n",
       "    }\n",
       "</style>\n",
       "<table border=\"1\" class=\"dataframe\">\n",
       "  <thead>\n",
       "    <tr style=\"text-align: right;\">\n",
       "      <th></th>\n",
       "      <th>family_status</th>\n",
       "      <th>debt</th>\n",
       "      <th>all</th>\n",
       "      <th>mean</th>\n",
       "      <th>percent_from_all</th>\n",
       "    </tr>\n",
       "  </thead>\n",
       "  <tbody>\n",
       "    <tr>\n",
       "      <th>0</th>\n",
       "      <td>вдовец / вдова</td>\n",
       "      <td>63</td>\n",
       "      <td>951</td>\n",
       "      <td>6.60000</td>\n",
       "      <td>4.46000</td>\n",
       "    </tr>\n",
       "    <tr>\n",
       "      <th>1</th>\n",
       "      <td>в разводе</td>\n",
       "      <td>84</td>\n",
       "      <td>1189</td>\n",
       "      <td>7.10000</td>\n",
       "      <td>5.57000</td>\n",
       "    </tr>\n",
       "    <tr>\n",
       "      <th>2</th>\n",
       "      <td>женат / замужем</td>\n",
       "      <td>927</td>\n",
       "      <td>12261</td>\n",
       "      <td>7.60000</td>\n",
       "      <td>57.48000</td>\n",
       "    </tr>\n",
       "    <tr>\n",
       "      <th>3</th>\n",
       "      <td>гражданский брак</td>\n",
       "      <td>385</td>\n",
       "      <td>4134</td>\n",
       "      <td>9.30000</td>\n",
       "      <td>19.38000</td>\n",
       "    </tr>\n",
       "    <tr>\n",
       "      <th>4</th>\n",
       "      <td>Не женат / не замужем</td>\n",
       "      <td>273</td>\n",
       "      <td>2796</td>\n",
       "      <td>9.80000</td>\n",
       "      <td>13.11000</td>\n",
       "    </tr>\n",
       "  </tbody>\n",
       "</table>\n",
       "</div>"
      ],
      "text/plain": [
       "           family_status  debt    all    mean  percent_from_all\n",
       "0         вдовец / вдова    63    951 6.60000           4.46000\n",
       "1              в разводе    84   1189 7.10000           5.57000\n",
       "2        женат / замужем   927  12261 7.60000          57.48000\n",
       "3       гражданский брак   385   4134 9.30000          19.38000\n",
       "4  Не женат / не замужем   273   2796 9.80000          13.11000"
      ]
     },
     "metadata": {},
     "output_type": "display_data"
    }
   ],
   "source": [
    "data_pivot_family = data.pivot_table(index=['family_status'], values = 'debt', aggfunc=['sum', 'count', 'mean'])\n",
    "data_pivot_family.columns = ['debt', 'all', 'mean']\n",
    "data_pivot_family['mean'] = data_pivot_family['mean'].round(3) * 100\n",
    "data_pivot_family['percent_from_all'] = ((data_pivot_family['all'] / data_pivot_family['all'].sum()) * 100).round(2)\n",
    "data_pivot_family = data_pivot_family.sort_values(by= 'mean').reset_index()\n",
    "display(data_pivot_family)\n",
    "#data_pivot_family_teori = data[data['family_status'] == 'гражданский брак'].pivot_table(index=['family_status', 'dob_years'], values = 'debt', aggfunc=len)\n"
   ]
  },
  {
   "cell_type": "code",
   "execution_count": 28,
   "id": "ddb40115",
   "metadata": {},
   "outputs": [
    {
     "data": {
      "image/png": "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\n",
      "text/plain": [
       "<Figure size 432x288 with 1 Axes>"
      ]
     },
     "metadata": {
      "needs_background": "light"
     },
     "output_type": "display_data"
    }
   ],
   "source": [
    "plt.title('Зависимость между семейным положением и возвратом кредита')\n",
    "sns.barplot(x='mean', y='family_status', data=data_pivot_family)\n",
    "plt.show()"
   ]
  },
  {
   "cell_type": "markdown",
   "id": "55169ce1",
   "metadata": {
    "deletable": false,
    "id": "1cef7837"
   },
   "source": [
    "**В данном вопросе можно сказать, что значения вдов/вдовцов аномально выбиваются, однако все 5 категорий можно сгруппировать в три: состояли ли в официальном браке, не состояли, гражданский брак. Анализируя эти три категории можно сказать, что люди, состоявшие в официальном браке более склонны к возвращению кредита в срок. Явно выражен скачёк невозврата для последних двух категорий, отображённых в диаграмме.** "
   ]
  },
  {
   "cell_type": "markdown",
   "id": "54a73f79",
   "metadata": {
    "deletable": false,
    "editable": false,
    "id": "1e8b2fca"
   },
   "source": [
    "#### 3.3 Есть ли зависимость между уровнем дохода и возвратом кредита в срок?"
   ]
  },
  {
   "cell_type": "code",
   "execution_count": 29,
   "id": "15b3c5af",
   "metadata": {
    "deletable": false,
    "id": "cd7e3720"
   },
   "outputs": [
    {
     "data": {
      "text/html": [
       "<div>\n",
       "<style scoped>\n",
       "    .dataframe tbody tr th:only-of-type {\n",
       "        vertical-align: middle;\n",
       "    }\n",
       "\n",
       "    .dataframe tbody tr th {\n",
       "        vertical-align: top;\n",
       "    }\n",
       "\n",
       "    .dataframe thead th {\n",
       "        text-align: right;\n",
       "    }\n",
       "</style>\n",
       "<table border=\"1\" class=\"dataframe\">\n",
       "  <thead>\n",
       "    <tr style=\"text-align: right;\">\n",
       "      <th></th>\n",
       "      <th>total_income_category</th>\n",
       "      <th>debt</th>\n",
       "      <th>all</th>\n",
       "      <th>mean</th>\n",
       "      <th>percent_from_all</th>\n",
       "    </tr>\n",
       "  </thead>\n",
       "  <tbody>\n",
       "    <tr>\n",
       "      <th>0</th>\n",
       "      <td>D</td>\n",
       "      <td>21</td>\n",
       "      <td>349</td>\n",
       "      <td>6.00000</td>\n",
       "      <td>1.64000</td>\n",
       "    </tr>\n",
       "    <tr>\n",
       "      <th>1</th>\n",
       "      <td>B</td>\n",
       "      <td>354</td>\n",
       "      <td>5014</td>\n",
       "      <td>7.10000</td>\n",
       "      <td>23.51000</td>\n",
       "    </tr>\n",
       "    <tr>\n",
       "      <th>2</th>\n",
       "      <td>A</td>\n",
       "      <td>2</td>\n",
       "      <td>25</td>\n",
       "      <td>8.00000</td>\n",
       "      <td>0.12000</td>\n",
       "    </tr>\n",
       "    <tr>\n",
       "      <th>3</th>\n",
       "      <td>C</td>\n",
       "      <td>1353</td>\n",
       "      <td>15921</td>\n",
       "      <td>8.50000</td>\n",
       "      <td>74.64000</td>\n",
       "    </tr>\n",
       "    <tr>\n",
       "      <th>4</th>\n",
       "      <td>E</td>\n",
       "      <td>2</td>\n",
       "      <td>22</td>\n",
       "      <td>9.10000</td>\n",
       "      <td>0.10000</td>\n",
       "    </tr>\n",
       "  </tbody>\n",
       "</table>\n",
       "</div>"
      ],
      "text/plain": [
       "  total_income_category  debt    all    mean  percent_from_all\n",
       "0                     D    21    349 6.00000           1.64000\n",
       "1                     B   354   5014 7.10000          23.51000\n",
       "2                     A     2     25 8.00000           0.12000\n",
       "3                     C  1353  15921 8.50000          74.64000\n",
       "4                     E     2     22 9.10000           0.10000"
      ]
     },
     "metadata": {},
     "output_type": "display_data"
    }
   ],
   "source": [
    "data_pivot_income = data.pivot_table(index=['total_income_category'], values = 'debt', aggfunc=['sum', 'count', 'mean'])\n",
    "data_pivot_income.columns = ['debt', 'all', 'mean']\n",
    "data_pivot_income['mean'] = data_pivot_income['mean'].round(3) * 100\n",
    "data_pivot_income['percent_from_all'] = ((data_pivot_income['all'] / data_pivot_income['all'].sum()) * 100).round(2)\n",
    "data_pivot_income = data_pivot_income.sort_values(by= 'mean').reset_index()\n",
    "display(data_pivot_income)"
   ]
  },
  {
   "cell_type": "code",
   "execution_count": 30,
   "id": "370f1ce7",
   "metadata": {},
   "outputs": [
    {
     "data": {
      "image/png": "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\n",
      "text/plain": [
       "<Figure size 432x288 with 1 Axes>"
      ]
     },
     "metadata": {
      "needs_background": "light"
     },
     "output_type": "display_data"
    }
   ],
   "source": [
    "plt.title('Зависимость между уровнем дохода и возвратом кредита')\n",
    "sns.barplot(x='mean', y='total_income_category', data=data_pivot_income)\n",
    "plt.show()"
   ]
  },
  {
   "cell_type": "markdown",
   "id": "825e0f23",
   "metadata": {
    "deletable": false,
    "id": "e8593def"
   },
   "source": [
    "**Для формулирования вывода к этому вопросу, я бы предложил отбросить категории, составляющие в сумме менее 2% в выборке. Остаются 2 категории дохода: от 200к до 1кк(B) и 50к до 200к(С). Если сравнивать их, то можно сказать: люди с более высоким доходом более склонны возвращать кредит в срок на 19,7%** "
   ]
  },
  {
   "cell_type": "markdown",
   "id": "8aa2dc13",
   "metadata": {
    "deletable": false,
    "editable": false,
    "id": "99ecbd1f"
   },
   "source": [
    "#### 3.4 Как разные цели кредита влияют на его возврат в срок?"
   ]
  },
  {
   "cell_type": "code",
   "execution_count": 31,
   "id": "a6da9d20",
   "metadata": {
    "deletable": false,
    "id": "2b687290"
   },
   "outputs": [
    {
     "data": {
      "text/html": [
       "<div>\n",
       "<style scoped>\n",
       "    .dataframe tbody tr th:only-of-type {\n",
       "        vertical-align: middle;\n",
       "    }\n",
       "\n",
       "    .dataframe tbody tr th {\n",
       "        vertical-align: top;\n",
       "    }\n",
       "\n",
       "    .dataframe thead th {\n",
       "        text-align: right;\n",
       "    }\n",
       "</style>\n",
       "<table border=\"1\" class=\"dataframe\">\n",
       "  <thead>\n",
       "    <tr style=\"text-align: right;\">\n",
       "      <th></th>\n",
       "      <th>purpose_category</th>\n",
       "      <th>debt</th>\n",
       "      <th>all</th>\n",
       "      <th>mean</th>\n",
       "    </tr>\n",
       "  </thead>\n",
       "  <tbody>\n",
       "    <tr>\n",
       "      <th>0</th>\n",
       "      <td>операции с недвижимостью</td>\n",
       "      <td>780</td>\n",
       "      <td>10751</td>\n",
       "      <td>7.30000</td>\n",
       "    </tr>\n",
       "    <tr>\n",
       "      <th>1</th>\n",
       "      <td>проведение свадьбы</td>\n",
       "      <td>183</td>\n",
       "      <td>2313</td>\n",
       "      <td>7.90000</td>\n",
       "    </tr>\n",
       "    <tr>\n",
       "      <th>2</th>\n",
       "      <td>операции с автомобилем</td>\n",
       "      <td>400</td>\n",
       "      <td>4279</td>\n",
       "      <td>9.30000</td>\n",
       "    </tr>\n",
       "    <tr>\n",
       "      <th>3</th>\n",
       "      <td>получение образования</td>\n",
       "      <td>369</td>\n",
       "      <td>3988</td>\n",
       "      <td>9.30000</td>\n",
       "    </tr>\n",
       "  </tbody>\n",
       "</table>\n",
       "</div>"
      ],
      "text/plain": [
       "           purpose_category  debt    all    mean\n",
       "0  операции с недвижимостью   780  10751 7.30000\n",
       "1        проведение свадьбы   183   2313 7.90000\n",
       "2    операции с автомобилем   400   4279 9.30000\n",
       "3     получение образования   369   3988 9.30000"
      ]
     },
     "metadata": {},
     "output_type": "display_data"
    }
   ],
   "source": [
    "data_pivot_purpose = data.pivot_table(index=['purpose_category'], values = 'debt', aggfunc=['sum', 'count', 'mean'])\n",
    "data_pivot_purpose.columns = ['debt', 'all', 'mean']\n",
    "data_pivot_purpose['mean'] = data_pivot_purpose['mean'].round(3) * 100\n",
    "data_pivot_purpose = data_pivot_purpose.sort_values(by= 'mean').reset_index()\n",
    "display(data_pivot_purpose)"
   ]
  },
  {
   "cell_type": "code",
   "execution_count": 32,
   "id": "e9b5af20",
   "metadata": {},
   "outputs": [
    {
     "data": {
      "image/png": "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\n",
      "text/plain": [
       "<Figure size 432x288 with 1 Axes>"
      ]
     },
     "metadata": {
      "needs_background": "light"
     },
     "output_type": "display_data"
    }
   ],
   "source": [
    "plt.title('Зависимость между целью и возвратом кредита')\n",
    "sns.barplot(x='mean', y='purpose_category', data=data_pivot_purpose)\n",
    "plt.show()"
   ]
  },
  {
   "cell_type": "markdown",
   "id": "eac98165",
   "metadata": {
    "deletable": false,
    "id": "b4bb2ce6"
   },
   "source": [
    "**Самые надёжные цели для кредитования - это операции с недвижимостью, вероятнее всего по той причине, что при операциях с жильём банк оформляет её под залог. В сравнении с ипотекой, операции с автомобилем и получение образования менее надежны на 27,4%** "
   ]
  },
  {
   "cell_type": "markdown",
   "id": "be6a8e1e",
   "metadata": {
    "deletable": false,
    "editable": false,
    "id": "09c3ac4c"
   },
   "source": [
    "#### 3.5 Приведите возможные причины появления пропусков в исходных данных."
   ]
  },
  {
   "cell_type": "markdown",
   "id": "fdbc56d8",
   "metadata": {
    "deletable": false,
    "id": "9da2ceda"
   },
   "source": [
    "*В данной работе я столкнулся с пропусками в нескольких категориях:\n",
    "\n",
    "Доход - Скорее всего, не все желают его указывать\n",
    "\n",
    "Трудовой стаж - здесь, скорее, проблема в несовершенстве систем контроля трудового стажа.\n",
    "\n",
    "При проверке  данных в столбце \"количество детей\" присутствовало два аномальных значения. Это - человеческий фактор.* "
   ]
  },
  {
   "cell_type": "markdown",
   "id": "641d3702",
   "metadata": {
    "deletable": false,
    "editable": false,
    "id": "7b0487d6"
   },
   "source": [
    "#### 3.6 Объясните, почему заполнить пропуски медианным значением — лучшее решение для количественных переменных."
   ]
  },
  {
   "cell_type": "markdown",
   "id": "63921574",
   "metadata": {
    "deletable": false,
    "id": "7ecf2b8e"
   },
   "source": [
    "Среднее значение некорректно характеризует данные, когда некоторые значения сильно выделяются среди большинства. В данной работе существуют показатели, которые при подсчёте среднего значения сильно исказит информацию(к примеру доход). Так что при такой выборке самым оптимальным решением выглядит заполнение пропусков медианным значением."
   ]
  },
  {
   "cell_type": "markdown",
   "id": "3d429f12",
   "metadata": {
    "deletable": false,
    "editable": false,
    "id": "6db5255a"
   },
   "source": [
    "### Шаг 4: общий вывод."
   ]
  },
  {
   "cell_type": "markdown",
   "id": "eb1f47f1",
   "metadata": {
    "deletable": false,
    "id": "bad65432"
   },
   "source": [
    "Идеальный клиент банка это человек, находящийся в официальном браке, не имеющий детей с доходом от 200к и взявший кредит на операции с недвижимостью. Возможно, на основании этого исследования, стоит присуждать кредитозаёмщикам категории не только учитывая их доход, но и наличие детей, официальные отношения и цель кредита. Так же я бы посоветовал обратить внимание банка на многодетные семьи и предложить им привлекательные условия. Не смотря на малое количество таких кредитозаёмщиков, они показывают хорошую статистику по возвратам. Такая компания могла бы иметь пользу как минимум для сбора данных.\n"
   ]
  }
 ],
 "metadata": {
  "ExecuteTimeLog": [
   {
    "duration": 45,
    "start_time": "2022-11-13T17:07:44.156Z"
   },
   {
    "duration": 6,
    "start_time": "2022-11-13T17:07:53.245Z"
   },
   {
    "duration": 487,
    "start_time": "2022-11-13T17:08:11.799Z"
   },
   {
    "duration": 24,
    "start_time": "2022-11-13T17:08:20.466Z"
   },
   {
    "duration": 16,
    "start_time": "2022-11-13T17:08:24.176Z"
   },
   {
    "duration": 13,
    "start_time": "2022-11-13T17:08:26.295Z"
   },
   {
    "duration": 31,
    "start_time": "2022-11-13T17:08:27.960Z"
   },
   {
    "duration": 3,
    "start_time": "2022-11-13T17:08:29.800Z"
   },
   {
    "duration": 8,
    "start_time": "2022-11-13T17:08:31.327Z"
   },
   {
    "duration": 4,
    "start_time": "2022-11-13T17:08:33.216Z"
   },
   {
    "duration": 7,
    "start_time": "2022-11-13T17:08:35.140Z"
   },
   {
    "duration": 4,
    "start_time": "2022-11-13T17:08:36.080Z"
   },
   {
    "duration": 31,
    "start_time": "2022-11-13T17:08:37.600Z"
   },
   {
    "duration": 10,
    "start_time": "2022-11-13T17:08:38.568Z"
   },
   {
    "duration": 4,
    "start_time": "2022-11-13T17:08:40.880Z"
   },
   {
    "duration": 3,
    "start_time": "2022-11-13T17:08:45.507Z"
   },
   {
    "duration": 16,
    "start_time": "2022-11-13T17:08:46.851Z"
   },
   {
    "duration": 21,
    "start_time": "2022-11-13T17:08:48.395Z"
   },
   {
    "duration": 19,
    "start_time": "2022-11-13T17:08:49.771Z"
   },
   {
    "duration": 3,
    "start_time": "2022-11-13T17:08:52.112Z"
   },
   {
    "duration": 11,
    "start_time": "2022-11-13T17:08:53.768Z"
   },
   {
    "duration": 6,
    "start_time": "2022-11-13T17:08:55.048Z"
   },
   {
    "duration": 4,
    "start_time": "2022-11-13T17:08:58.119Z"
   },
   {
    "duration": 9,
    "start_time": "2022-11-13T17:08:58.955Z"
   },
   {
    "duration": 8,
    "start_time": "2022-11-13T17:09:00.300Z"
   },
   {
    "duration": 10,
    "start_time": "2022-11-13T17:10:04.824Z"
   },
   {
    "duration": 5,
    "start_time": "2022-11-13T17:20:01.270Z"
   },
   {
    "duration": 8,
    "start_time": "2022-11-13T17:20:08.893Z"
   },
   {
    "duration": 13,
    "start_time": "2022-11-13T17:20:51.109Z"
   },
   {
    "duration": 7,
    "start_time": "2022-11-13T17:21:33.039Z"
   },
   {
    "duration": 13,
    "start_time": "2022-11-13T17:21:40.974Z"
   },
   {
    "duration": 17,
    "start_time": "2022-11-13T17:22:53.399Z"
   },
   {
    "duration": 9,
    "start_time": "2022-11-13T17:23:24.439Z"
   },
   {
    "duration": 32,
    "start_time": "2022-11-13T17:24:12.279Z"
   },
   {
    "duration": 10,
    "start_time": "2022-11-13T17:24:32.136Z"
   },
   {
    "duration": 17,
    "start_time": "2022-11-13T17:36:22.548Z"
   },
   {
    "duration": 15,
    "start_time": "2022-11-13T17:36:31.556Z"
   },
   {
    "duration": 9,
    "start_time": "2022-11-13T17:36:38.621Z"
   },
   {
    "duration": 25,
    "start_time": "2022-11-13T17:43:21.775Z"
   },
   {
    "duration": 19,
    "start_time": "2022-11-13T17:46:07.369Z"
   },
   {
    "duration": 10,
    "start_time": "2022-11-13T17:48:41.818Z"
   },
   {
    "duration": 19,
    "start_time": "2022-11-13T17:50:35.718Z"
   },
   {
    "duration": 21,
    "start_time": "2022-11-13T17:50:55.659Z"
   },
   {
    "duration": 15,
    "start_time": "2022-11-13T17:56:13.356Z"
   },
   {
    "duration": 18,
    "start_time": "2022-11-13T17:58:57.518Z"
   },
   {
    "duration": 20,
    "start_time": "2022-11-13T18:00:07.318Z"
   },
   {
    "duration": 19,
    "start_time": "2022-11-13T18:00:23.710Z"
   },
   {
    "duration": 19,
    "start_time": "2022-11-13T18:00:35.206Z"
   },
   {
    "duration": 25,
    "start_time": "2022-11-13T18:01:57.929Z"
   },
   {
    "duration": 27,
    "start_time": "2022-11-13T18:02:04.191Z"
   },
   {
    "duration": 13,
    "start_time": "2022-11-13T18:02:28.417Z"
   },
   {
    "duration": 46,
    "start_time": "2022-11-13T18:02:33.966Z"
   },
   {
    "duration": 30,
    "start_time": "2022-11-13T18:03:57.855Z"
   },
   {
    "duration": 25,
    "start_time": "2022-11-13T18:04:35.129Z"
   },
   {
    "duration": 47,
    "start_time": "2022-11-13T18:05:09.376Z"
   },
   {
    "duration": 52,
    "start_time": "2022-11-13T18:05:14.840Z"
   },
   {
    "duration": 19,
    "start_time": "2022-11-13T18:05:43.600Z"
   },
   {
    "duration": 22,
    "start_time": "2022-11-13T18:05:53.595Z"
   },
   {
    "duration": 24,
    "start_time": "2022-11-13T18:06:15.984Z"
   },
   {
    "duration": 18,
    "start_time": "2022-11-13T18:07:26.761Z"
   },
   {
    "duration": 19,
    "start_time": "2022-11-13T18:09:06.938Z"
   },
   {
    "duration": 12,
    "start_time": "2022-11-13T18:09:24.579Z"
   },
   {
    "duration": 11,
    "start_time": "2022-11-13T18:10:10.083Z"
   },
   {
    "duration": 19,
    "start_time": "2022-11-13T18:10:14.252Z"
   },
   {
    "duration": 29,
    "start_time": "2022-11-13T18:10:18.548Z"
   },
   {
    "duration": 20,
    "start_time": "2022-11-13T18:11:56.690Z"
   },
   {
    "duration": 29,
    "start_time": "2022-11-13T18:12:07.523Z"
   },
   {
    "duration": 25,
    "start_time": "2022-11-13T18:12:27.891Z"
   },
   {
    "duration": 28,
    "start_time": "2022-11-13T18:12:44.692Z"
   },
   {
    "duration": 29,
    "start_time": "2022-11-13T18:13:19.301Z"
   },
   {
    "duration": 23,
    "start_time": "2022-11-13T18:14:02.844Z"
   },
   {
    "duration": 44,
    "start_time": "2022-11-13T18:14:24.005Z"
   },
   {
    "duration": 26,
    "start_time": "2022-11-13T18:14:50.740Z"
   },
   {
    "duration": 12,
    "start_time": "2022-11-13T18:15:52.620Z"
   },
   {
    "duration": 18,
    "start_time": "2022-11-13T18:15:59.532Z"
   },
   {
    "duration": 22,
    "start_time": "2022-11-13T18:17:12.391Z"
   },
   {
    "duration": 19,
    "start_time": "2022-11-13T18:18:24.679Z"
   },
   {
    "duration": 31,
    "start_time": "2022-11-13T18:18:41.406Z"
   },
   {
    "duration": 31,
    "start_time": "2022-11-13T18:20:29.847Z"
   },
   {
    "duration": 33,
    "start_time": "2022-11-13T18:20:37.798Z"
   },
   {
    "duration": 1781,
    "start_time": "2022-11-13T18:26:17.133Z"
   },
   {
    "duration": 73,
    "start_time": "2022-11-13T18:28:10.747Z"
   },
   {
    "duration": 40,
    "start_time": "2022-11-13T18:28:25.146Z"
   },
   {
    "duration": 40,
    "start_time": "2022-11-13T18:28:36.523Z"
   },
   {
    "duration": 726,
    "start_time": "2022-11-13T18:30:49.621Z"
   },
   {
    "duration": 35,
    "start_time": "2022-11-13T18:31:08.500Z"
   },
   {
    "duration": 28,
    "start_time": "2022-11-13T18:34:13.133Z"
   },
   {
    "duration": 34,
    "start_time": "2022-11-13T18:34:31.462Z"
   },
   {
    "duration": 209,
    "start_time": "2022-11-13T18:34:57.045Z"
   },
   {
    "duration": 33,
    "start_time": "2022-11-13T18:35:14.381Z"
   },
   {
    "duration": 30,
    "start_time": "2022-11-13T18:35:33.669Z"
   },
   {
    "duration": 61,
    "start_time": "2022-11-13T18:37:33.866Z"
   },
   {
    "duration": 33,
    "start_time": "2022-11-13T18:37:54.374Z"
   },
   {
    "duration": 32,
    "start_time": "2022-11-13T18:40:41.667Z"
   },
   {
    "duration": 36,
    "start_time": "2022-11-13T18:42:59.975Z"
   },
   {
    "duration": 34,
    "start_time": "2022-11-13T18:43:08.898Z"
   },
   {
    "duration": 41,
    "start_time": "2022-11-13T18:45:21.625Z"
   },
   {
    "duration": 719,
    "start_time": "2022-11-13T18:45:58.521Z"
   },
   {
    "duration": 707,
    "start_time": "2022-11-13T18:46:36.330Z"
   },
   {
    "duration": 31,
    "start_time": "2022-11-13T18:46:43.858Z"
   },
   {
    "duration": 32,
    "start_time": "2022-11-13T18:47:13.698Z"
   },
   {
    "duration": 35,
    "start_time": "2022-11-13T18:50:42.484Z"
   },
   {
    "duration": 37,
    "start_time": "2022-11-13T18:52:43.500Z"
   },
   {
    "duration": 163,
    "start_time": "2022-11-13T18:55:52.646Z"
   },
   {
    "duration": 160,
    "start_time": "2022-11-13T18:56:10.150Z"
   },
   {
    "duration": 154,
    "start_time": "2022-11-13T18:56:50.102Z"
   },
   {
    "duration": 156,
    "start_time": "2022-11-13T18:57:05.878Z"
   },
   {
    "duration": 29,
    "start_time": "2022-11-13T19:05:51.476Z"
   },
   {
    "duration": 41,
    "start_time": "2022-11-13T19:06:36.614Z"
   },
   {
    "duration": 30,
    "start_time": "2022-11-13T19:07:11.811Z"
   },
   {
    "duration": 865,
    "start_time": "2022-11-13T19:08:16.323Z"
   },
   {
    "duration": 688,
    "start_time": "2022-11-13T19:08:49.203Z"
   },
   {
    "duration": 30,
    "start_time": "2022-11-13T19:09:04.301Z"
   },
   {
    "duration": 31,
    "start_time": "2022-11-13T19:09:57.692Z"
   },
   {
    "duration": 32,
    "start_time": "2022-11-13T19:12:51.645Z"
   },
   {
    "duration": 27,
    "start_time": "2022-11-13T19:17:56.023Z"
   },
   {
    "duration": 135,
    "start_time": "2022-11-13T19:18:56.144Z"
   },
   {
    "duration": 150,
    "start_time": "2022-11-13T19:19:09.768Z"
   },
   {
    "duration": 28,
    "start_time": "2022-11-13T19:34:49.310Z"
   },
   {
    "duration": 29,
    "start_time": "2022-11-13T19:35:09.046Z"
   },
   {
    "duration": 37,
    "start_time": "2022-11-13T19:35:24.583Z"
   },
   {
    "duration": 28,
    "start_time": "2022-11-13T19:35:31.935Z"
   },
   {
    "duration": 143,
    "start_time": "2022-11-13T19:35:54.327Z"
   },
   {
    "duration": 215,
    "start_time": "2022-11-13T19:36:03.815Z"
   },
   {
    "duration": 142,
    "start_time": "2022-11-13T19:36:33.862Z"
   },
   {
    "duration": 145,
    "start_time": "2022-11-13T19:36:46.954Z"
   },
   {
    "duration": 27,
    "start_time": "2022-11-13T19:39:43.200Z"
   },
   {
    "duration": 29,
    "start_time": "2022-11-13T19:39:51.842Z"
   },
   {
    "duration": 27,
    "start_time": "2022-11-13T19:39:59.474Z"
   },
   {
    "duration": 139,
    "start_time": "2022-11-13T19:41:56.230Z"
   },
   {
    "duration": 36,
    "start_time": "2022-11-13T19:42:38.947Z"
   },
   {
    "duration": 122,
    "start_time": "2022-11-13T19:43:11.745Z"
   },
   {
    "duration": 153,
    "start_time": "2022-11-13T19:44:08.445Z"
   },
   {
    "duration": 142,
    "start_time": "2022-11-13T19:44:38.356Z"
   },
   {
    "duration": 158,
    "start_time": "2022-11-13T19:45:17.619Z"
   },
   {
    "duration": 154,
    "start_time": "2022-11-13T19:47:10.212Z"
   },
   {
    "duration": 136,
    "start_time": "2022-11-13T19:47:43.261Z"
   },
   {
    "duration": 141,
    "start_time": "2022-11-13T19:50:04.948Z"
   },
   {
    "duration": 44,
    "start_time": "2022-11-13T19:50:12.732Z"
   },
   {
    "duration": 139,
    "start_time": "2022-11-13T19:50:26.045Z"
   },
   {
    "duration": 241,
    "start_time": "2022-11-13T19:50:43.390Z"
   },
   {
    "duration": 38,
    "start_time": "2022-11-13T19:51:48.917Z"
   },
   {
    "duration": 29,
    "start_time": "2022-11-13T19:51:59.366Z"
   },
   {
    "duration": 152,
    "start_time": "2022-11-13T19:52:27.422Z"
   },
   {
    "duration": 149,
    "start_time": "2022-11-13T19:57:00.343Z"
   },
   {
    "duration": 137,
    "start_time": "2022-11-13T19:57:32.496Z"
   },
   {
    "duration": 146,
    "start_time": "2022-11-13T19:57:37.654Z"
   },
   {
    "duration": 160,
    "start_time": "2022-11-13T19:57:44.903Z"
   },
   {
    "duration": 150,
    "start_time": "2022-11-13T19:58:15.977Z"
   },
   {
    "duration": 147,
    "start_time": "2022-11-13T19:58:21.135Z"
   },
   {
    "duration": 143,
    "start_time": "2022-11-13T20:10:22.518Z"
   },
   {
    "duration": 840,
    "start_time": "2022-11-13T20:14:05.822Z"
   },
   {
    "duration": 154,
    "start_time": "2022-11-13T20:14:14.813Z"
   },
   {
    "duration": 146,
    "start_time": "2022-11-13T20:14:22.446Z"
   },
   {
    "duration": 229,
    "start_time": "2022-11-13T20:14:47.528Z"
   },
   {
    "duration": 159,
    "start_time": "2022-11-13T20:15:05.886Z"
   },
   {
    "duration": 159,
    "start_time": "2022-11-13T20:17:22.391Z"
   },
   {
    "duration": 135,
    "start_time": "2022-11-13T20:17:27.265Z"
   },
   {
    "duration": 174,
    "start_time": "2022-11-13T20:31:24.975Z"
   },
   {
    "duration": 168,
    "start_time": "2022-11-13T20:43:48.190Z"
   },
   {
    "duration": 155,
    "start_time": "2022-11-13T20:44:17.996Z"
   },
   {
    "duration": 163,
    "start_time": "2022-11-13T20:44:27.252Z"
   },
   {
    "duration": 161,
    "start_time": "2022-11-13T20:45:42.493Z"
   },
   {
    "duration": 146,
    "start_time": "2022-11-13T20:46:34.638Z"
   },
   {
    "duration": 136,
    "start_time": "2022-11-13T20:51:30.232Z"
   },
   {
    "duration": 236,
    "start_time": "2022-11-13T20:52:18.626Z"
   },
   {
    "duration": 161,
    "start_time": "2022-11-13T21:05:38.758Z"
   },
   {
    "duration": 144,
    "start_time": "2022-11-13T21:24:13.727Z"
   },
   {
    "duration": 39,
    "start_time": "2022-11-13T21:25:25.219Z"
   },
   {
    "duration": 145,
    "start_time": "2022-11-13T21:25:37.656Z"
   },
   {
    "duration": 136,
    "start_time": "2022-11-13T21:26:20.512Z"
   },
   {
    "duration": 41,
    "start_time": "2022-11-13T21:26:45.793Z"
   },
   {
    "duration": 32,
    "start_time": "2022-11-13T21:27:18.000Z"
   },
   {
    "duration": 149,
    "start_time": "2022-11-13T21:27:31.304Z"
   },
   {
    "duration": 41,
    "start_time": "2022-11-13T21:27:49.680Z"
   },
   {
    "duration": 146,
    "start_time": "2022-11-13T21:27:57.266Z"
   },
   {
    "duration": 141,
    "start_time": "2022-11-13T21:29:08.770Z"
   },
   {
    "duration": 166,
    "start_time": "2022-11-13T21:30:08.290Z"
   },
   {
    "duration": 155,
    "start_time": "2022-11-13T21:30:46.685Z"
   },
   {
    "duration": 146,
    "start_time": "2022-11-13T21:31:31.650Z"
   },
   {
    "duration": 147,
    "start_time": "2022-11-13T21:32:18.395Z"
   },
   {
    "duration": 245,
    "start_time": "2022-11-13T21:32:39.835Z"
   },
   {
    "duration": 160,
    "start_time": "2022-11-13T21:33:22.619Z"
   },
   {
    "duration": 44,
    "start_time": "2022-11-13T21:33:49.539Z"
   },
   {
    "duration": 151,
    "start_time": "2022-11-13T21:33:54.019Z"
   },
   {
    "duration": 155,
    "start_time": "2022-11-13T21:34:49.971Z"
   },
   {
    "duration": 157,
    "start_time": "2022-11-13T21:35:13.390Z"
   },
   {
    "duration": 141,
    "start_time": "2022-11-13T21:35:52.603Z"
   },
   {
    "duration": 144,
    "start_time": "2022-11-13T21:36:15.420Z"
   },
   {
    "duration": 146,
    "start_time": "2022-11-13T21:40:04.036Z"
   },
   {
    "duration": 159,
    "start_time": "2022-11-13T21:40:24.017Z"
   },
   {
    "duration": 77,
    "start_time": "2022-11-14T16:06:01.685Z"
   },
   {
    "duration": 1374,
    "start_time": "2022-11-14T16:27:23.854Z"
   },
   {
    "duration": 304,
    "start_time": "2022-11-14T16:27:29.389Z"
   },
   {
    "duration": 117,
    "start_time": "2022-11-14T16:28:28.586Z"
   },
   {
    "duration": 68,
    "start_time": "2022-11-14T16:28:43.051Z"
   },
   {
    "duration": 20,
    "start_time": "2022-11-14T16:28:44.208Z"
   },
   {
    "duration": 20,
    "start_time": "2022-11-14T16:28:44.657Z"
   },
   {
    "duration": 12,
    "start_time": "2022-11-14T16:28:45.882Z"
   },
   {
    "duration": 36,
    "start_time": "2022-11-14T16:28:46.675Z"
   },
   {
    "duration": 4,
    "start_time": "2022-11-14T16:28:47.460Z"
   },
   {
    "duration": 8,
    "start_time": "2022-11-14T16:28:48.049Z"
   },
   {
    "duration": 6,
    "start_time": "2022-11-14T16:28:48.667Z"
   },
   {
    "duration": 8,
    "start_time": "2022-11-14T16:28:49.073Z"
   },
   {
    "duration": 6,
    "start_time": "2022-11-14T16:28:49.657Z"
   },
   {
    "duration": 42,
    "start_time": "2022-11-14T16:28:50.274Z"
   },
   {
    "duration": 24,
    "start_time": "2022-11-14T16:28:50.650Z"
   },
   {
    "duration": 4,
    "start_time": "2022-11-14T16:28:51.273Z"
   },
   {
    "duration": 12,
    "start_time": "2022-11-14T16:28:51.898Z"
   },
   {
    "duration": 19,
    "start_time": "2022-11-14T16:28:52.329Z"
   },
   {
    "duration": 16,
    "start_time": "2022-11-14T16:28:52.554Z"
   },
   {
    "duration": 3,
    "start_time": "2022-11-14T16:28:56.849Z"
   },
   {
    "duration": 13,
    "start_time": "2022-11-14T16:28:59.204Z"
   },
   {
    "duration": 6,
    "start_time": "2022-11-14T16:29:19.378Z"
   },
   {
    "duration": 11,
    "start_time": "2022-11-14T16:29:57.666Z"
   },
   {
    "duration": 10,
    "start_time": "2022-11-14T16:30:08.058Z"
   },
   {
    "duration": 5,
    "start_time": "2022-11-14T16:30:43.220Z"
   },
   {
    "duration": 13,
    "start_time": "2022-11-14T16:30:44.803Z"
   },
   {
    "duration": 15,
    "start_time": "2022-11-14T16:31:33.651Z"
   },
   {
    "duration": 14,
    "start_time": "2022-11-14T16:31:47.295Z"
   },
   {
    "duration": 14,
    "start_time": "2022-11-14T16:32:04.300Z"
   },
   {
    "duration": 217,
    "start_time": "2022-11-14T16:33:13.244Z"
   },
   {
    "duration": 171,
    "start_time": "2022-11-14T16:33:19.629Z"
   },
   {
    "duration": 42,
    "start_time": "2022-11-14T16:33:29.165Z"
   },
   {
    "duration": 35,
    "start_time": "2022-11-14T16:33:39.725Z"
   },
   {
    "duration": 3,
    "start_time": "2022-11-14T16:34:21.506Z"
   },
   {
    "duration": 152,
    "start_time": "2022-11-14T16:34:39.021Z"
   },
   {
    "duration": 171,
    "start_time": "2022-11-14T16:34:57.014Z"
   },
   {
    "duration": 34,
    "start_time": "2022-11-14T16:36:17.217Z"
   },
   {
    "duration": 148,
    "start_time": "2022-11-14T16:36:35.686Z"
   },
   {
    "duration": 26,
    "start_time": "2022-11-14T16:42:27.985Z"
   },
   {
    "duration": 14,
    "start_time": "2022-11-14T16:43:06.713Z"
   },
   {
    "duration": 138,
    "start_time": "2022-11-14T16:44:13.665Z"
   },
   {
    "duration": 13,
    "start_time": "2022-11-14T16:45:23.048Z"
   },
   {
    "duration": 573,
    "start_time": "2022-11-14T16:48:37.211Z"
   },
   {
    "duration": 22,
    "start_time": "2022-11-14T16:49:37.787Z"
   },
   {
    "duration": 13,
    "start_time": "2022-11-14T16:50:03.011Z"
   },
   {
    "duration": 24,
    "start_time": "2022-11-14T16:50:12.027Z"
   },
   {
    "duration": 26,
    "start_time": "2022-11-14T16:50:56.572Z"
   },
   {
    "duration": 49,
    "start_time": "2022-11-14T16:52:50.607Z"
   },
   {
    "duration": 922,
    "start_time": "2022-11-14T16:53:10.445Z"
   },
   {
    "duration": 898,
    "start_time": "2022-11-14T16:53:26.973Z"
   },
   {
    "duration": 35,
    "start_time": "2022-11-14T16:53:33.173Z"
   },
   {
    "duration": 33,
    "start_time": "2022-11-14T16:54:10.333Z"
   },
   {
    "duration": 147,
    "start_time": "2022-11-14T16:56:50.006Z"
   },
   {
    "duration": 871,
    "start_time": "2022-11-14T16:57:13.566Z"
   },
   {
    "duration": 44,
    "start_time": "2022-11-14T16:57:22.878Z"
   },
   {
    "duration": 28,
    "start_time": "2022-11-14T16:57:32.703Z"
   },
   {
    "duration": 733,
    "start_time": "2022-11-14T16:57:42.758Z"
   },
   {
    "duration": 27,
    "start_time": "2022-11-14T16:57:57.582Z"
   },
   {
    "duration": 71,
    "start_time": "2022-11-14T16:58:19.060Z"
   },
   {
    "duration": 30,
    "start_time": "2022-11-14T16:58:23.324Z"
   },
   {
    "duration": 38,
    "start_time": "2022-11-14T16:58:34.028Z"
   },
   {
    "duration": 202,
    "start_time": "2022-11-14T16:59:24.620Z"
   },
   {
    "duration": 30,
    "start_time": "2022-11-14T16:59:56.109Z"
   },
   {
    "duration": 31,
    "start_time": "2022-11-14T17:00:08.021Z"
   },
   {
    "duration": 35,
    "start_time": "2022-11-14T17:00:13.092Z"
   },
   {
    "duration": 42,
    "start_time": "2022-11-14T17:00:25.389Z"
   },
   {
    "duration": 164,
    "start_time": "2022-11-14T17:00:52.428Z"
   },
   {
    "duration": 139,
    "start_time": "2022-11-14T17:09:14.513Z"
   },
   {
    "duration": 136,
    "start_time": "2022-11-14T17:09:27.870Z"
   },
   {
    "duration": 258,
    "start_time": "2022-11-14T17:12:07.705Z"
   },
   {
    "duration": 36,
    "start_time": "2022-11-14T17:12:39.769Z"
   },
   {
    "duration": 35,
    "start_time": "2022-11-14T17:12:52.265Z"
   },
   {
    "duration": 32,
    "start_time": "2022-11-14T17:13:13.769Z"
   },
   {
    "duration": 36,
    "start_time": "2022-11-14T17:13:18.041Z"
   },
   {
    "duration": 200,
    "start_time": "2022-11-14T17:13:31.122Z"
   },
   {
    "duration": 240,
    "start_time": "2022-11-14T17:14:13.682Z"
   },
   {
    "duration": 204,
    "start_time": "2022-11-14T17:14:26.884Z"
   },
   {
    "duration": 31,
    "start_time": "2022-11-14T17:14:53.866Z"
   },
   {
    "duration": 36,
    "start_time": "2022-11-14T17:15:23.139Z"
   },
   {
    "duration": 31,
    "start_time": "2022-11-14T17:15:29.354Z"
   },
   {
    "duration": 31,
    "start_time": "2022-11-14T17:15:40.891Z"
   },
   {
    "duration": 28,
    "start_time": "2022-11-14T17:16:22.770Z"
   },
   {
    "duration": 31,
    "start_time": "2022-11-14T17:16:31.500Z"
   },
   {
    "duration": 142,
    "start_time": "2022-11-14T17:16:46.341Z"
   },
   {
    "duration": 203,
    "start_time": "2022-11-14T17:19:10.646Z"
   },
   {
    "duration": 146,
    "start_time": "2022-11-14T17:19:26.165Z"
   },
   {
    "duration": 158,
    "start_time": "2022-11-14T17:22:15.647Z"
   },
   {
    "duration": 139,
    "start_time": "2022-11-14T17:28:40.143Z"
   },
   {
    "duration": 122,
    "start_time": "2022-11-14T17:35:30.679Z"
   },
   {
    "duration": 28,
    "start_time": "2022-11-14T17:35:34.390Z"
   },
   {
    "duration": 127,
    "start_time": "2022-11-14T17:37:27.262Z"
   },
   {
    "duration": 119,
    "start_time": "2022-11-14T17:37:32.070Z"
   },
   {
    "duration": 111,
    "start_time": "2022-11-14T17:37:43.096Z"
   },
   {
    "duration": 53,
    "start_time": "2022-11-14T17:39:44.507Z"
   },
   {
    "duration": 134,
    "start_time": "2022-11-14T17:39:55.302Z"
   },
   {
    "duration": 209,
    "start_time": "2022-11-14T17:40:05.968Z"
   },
   {
    "duration": 34,
    "start_time": "2022-11-14T17:40:14.095Z"
   },
   {
    "duration": 9,
    "start_time": "2022-11-14T17:41:02.072Z"
   },
   {
    "duration": 31,
    "start_time": "2022-11-14T17:41:15.128Z"
   },
   {
    "duration": 104,
    "start_time": "2022-11-14T17:41:17.704Z"
   },
   {
    "duration": 34,
    "start_time": "2022-11-14T17:43:03.769Z"
   },
   {
    "duration": 118,
    "start_time": "2022-11-14T17:43:05.017Z"
   },
   {
    "duration": 1284,
    "start_time": "2022-11-14T20:41:15.288Z"
   },
   {
    "duration": 304,
    "start_time": "2022-11-14T20:41:16.574Z"
   },
   {
    "duration": 24,
    "start_time": "2022-11-14T20:41:16.880Z"
   },
   {
    "duration": 19,
    "start_time": "2022-11-14T20:41:16.909Z"
   },
   {
    "duration": 32,
    "start_time": "2022-11-14T20:41:16.930Z"
   },
   {
    "duration": 46,
    "start_time": "2022-11-14T20:41:16.964Z"
   },
   {
    "duration": 3,
    "start_time": "2022-11-14T20:41:17.012Z"
   },
   {
    "duration": 13,
    "start_time": "2022-11-14T20:41:17.017Z"
   },
   {
    "duration": 14,
    "start_time": "2022-11-14T20:41:17.032Z"
   },
   {
    "duration": 12,
    "start_time": "2022-11-14T20:41:17.048Z"
   },
   {
    "duration": 7,
    "start_time": "2022-11-14T20:41:17.061Z"
   },
   {
    "duration": 40,
    "start_time": "2022-11-14T20:41:17.069Z"
   },
   {
    "duration": 9,
    "start_time": "2022-11-14T20:41:17.111Z"
   },
   {
    "duration": 8,
    "start_time": "2022-11-14T20:41:17.122Z"
   },
   {
    "duration": 17,
    "start_time": "2022-11-14T20:41:17.132Z"
   },
   {
    "duration": 20,
    "start_time": "2022-11-14T20:41:17.150Z"
   },
   {
    "duration": 17,
    "start_time": "2022-11-14T20:41:17.172Z"
   },
   {
    "duration": 4,
    "start_time": "2022-11-14T20:41:17.190Z"
   },
   {
    "duration": 20,
    "start_time": "2022-11-14T20:41:17.195Z"
   },
   {
    "duration": 22,
    "start_time": "2022-11-14T20:41:17.217Z"
   },
   {
    "duration": 7,
    "start_time": "2022-11-14T20:41:17.241Z"
   },
   {
    "duration": 29,
    "start_time": "2022-11-14T20:41:17.250Z"
   },
   {
    "duration": 44,
    "start_time": "2022-11-14T20:41:17.281Z"
   },
   {
    "duration": 127,
    "start_time": "2022-11-14T20:41:17.326Z"
   },
   {
    "duration": 34,
    "start_time": "2022-11-14T20:41:17.455Z"
   },
   {
    "duration": 144,
    "start_time": "2022-11-14T20:41:17.491Z"
   },
   {
    "duration": 33,
    "start_time": "2022-11-14T20:41:17.636Z"
   },
   {
    "duration": 123,
    "start_time": "2022-11-14T20:41:17.672Z"
   },
   {
    "duration": 44,
    "start_time": "2022-11-14T20:41:17.797Z"
   },
   {
    "duration": 128,
    "start_time": "2022-11-14T20:41:17.842Z"
   },
   {
    "duration": 131,
    "start_time": "2022-11-14T20:42:42.191Z"
   },
   {
    "duration": 15,
    "start_time": "2022-11-14T20:42:55.167Z"
   },
   {
    "duration": 18,
    "start_time": "2022-11-14T20:43:13.169Z"
   },
   {
    "duration": 25,
    "start_time": "2022-11-14T20:43:24.772Z"
   },
   {
    "duration": 33,
    "start_time": "2022-11-14T20:43:48.794Z"
   },
   {
    "duration": 31,
    "start_time": "2022-11-14T20:43:58.741Z"
   },
   {
    "duration": 37,
    "start_time": "2022-11-14T20:44:29.855Z"
   },
   {
    "duration": 36,
    "start_time": "2022-11-14T20:45:29.740Z"
   },
   {
    "duration": 45,
    "start_time": "2022-11-14T20:46:24.345Z"
   },
   {
    "duration": 34,
    "start_time": "2022-11-14T20:48:33.004Z"
   },
   {
    "duration": 14,
    "start_time": "2022-11-14T20:49:21.817Z"
   },
   {
    "duration": 9,
    "start_time": "2022-11-14T20:49:45.533Z"
   },
   {
    "duration": 107,
    "start_time": "2022-11-14T20:50:15.489Z"
   },
   {
    "duration": 1168,
    "start_time": "2022-11-14T20:50:34.701Z"
   },
   {
    "duration": 73,
    "start_time": "2022-11-14T20:50:35.871Z"
   },
   {
    "duration": 18,
    "start_time": "2022-11-14T20:50:35.946Z"
   },
   {
    "duration": 21,
    "start_time": "2022-11-14T20:50:35.966Z"
   },
   {
    "duration": 10,
    "start_time": "2022-11-14T20:50:35.990Z"
   },
   {
    "duration": 56,
    "start_time": "2022-11-14T20:50:36.002Z"
   },
   {
    "duration": 3,
    "start_time": "2022-11-14T20:50:36.060Z"
   },
   {
    "duration": 15,
    "start_time": "2022-11-14T20:50:36.064Z"
   },
   {
    "duration": 7,
    "start_time": "2022-11-14T20:50:36.081Z"
   },
   {
    "duration": 14,
    "start_time": "2022-11-14T20:50:36.089Z"
   },
   {
    "duration": 6,
    "start_time": "2022-11-14T20:50:36.104Z"
   },
   {
    "duration": 44,
    "start_time": "2022-11-14T20:50:36.112Z"
   },
   {
    "duration": 9,
    "start_time": "2022-11-14T20:50:36.158Z"
   },
   {
    "duration": 8,
    "start_time": "2022-11-14T20:50:36.170Z"
   },
   {
    "duration": 18,
    "start_time": "2022-11-14T20:50:36.180Z"
   },
   {
    "duration": 36,
    "start_time": "2022-11-14T20:50:36.200Z"
   },
   {
    "duration": 16,
    "start_time": "2022-11-14T20:50:36.237Z"
   },
   {
    "duration": 4,
    "start_time": "2022-11-14T20:50:36.254Z"
   },
   {
    "duration": 33,
    "start_time": "2022-11-14T20:50:36.260Z"
   },
   {
    "duration": 5,
    "start_time": "2022-11-14T20:50:36.295Z"
   },
   {
    "duration": 12,
    "start_time": "2022-11-14T20:50:36.301Z"
   },
   {
    "duration": 25,
    "start_time": "2022-11-14T20:50:36.315Z"
   },
   {
    "duration": 39,
    "start_time": "2022-11-14T20:50:36.341Z"
   },
   {
    "duration": 129,
    "start_time": "2022-11-14T20:50:36.382Z"
   },
   {
    "duration": 45,
    "start_time": "2022-11-14T20:50:36.512Z"
   },
   {
    "duration": 132,
    "start_time": "2022-11-14T20:50:36.559Z"
   },
   {
    "duration": 52,
    "start_time": "2022-11-14T20:50:36.692Z"
   },
   {
    "duration": 136,
    "start_time": "2022-11-14T20:50:36.746Z"
   },
   {
    "duration": 38,
    "start_time": "2022-11-14T20:50:36.884Z"
   },
   {
    "duration": 131,
    "start_time": "2022-11-14T20:50:36.935Z"
   },
   {
    "duration": 33,
    "start_time": "2022-11-14T20:50:37.068Z"
   },
   {
    "duration": 137,
    "start_time": "2022-11-14T20:50:37.103Z"
   },
   {
    "duration": 122,
    "start_time": "2022-11-14T20:51:17.154Z"
   },
   {
    "duration": 72,
    "start_time": "2022-11-14T21:20:34.728Z"
   },
   {
    "duration": 1214,
    "start_time": "2022-11-14T21:21:04.273Z"
   },
   {
    "duration": 87,
    "start_time": "2022-11-14T21:22:13.096Z"
   },
   {
    "duration": 1081,
    "start_time": "2022-11-14T21:22:26.739Z"
   },
   {
    "duration": 63,
    "start_time": "2022-11-14T21:22:27.822Z"
   },
   {
    "duration": 17,
    "start_time": "2022-11-14T21:22:27.886Z"
   },
   {
    "duration": 15,
    "start_time": "2022-11-14T21:22:27.905Z"
   },
   {
    "duration": 7,
    "start_time": "2022-11-14T21:22:27.921Z"
   },
   {
    "duration": 42,
    "start_time": "2022-11-14T21:22:27.930Z"
   },
   {
    "duration": 2,
    "start_time": "2022-11-14T21:22:27.974Z"
   },
   {
    "duration": 26,
    "start_time": "2022-11-14T21:22:27.978Z"
   },
   {
    "duration": 9,
    "start_time": "2022-11-14T21:22:28.005Z"
   },
   {
    "duration": 5,
    "start_time": "2022-11-14T21:22:28.016Z"
   },
   {
    "duration": 3,
    "start_time": "2022-11-14T21:22:28.023Z"
   },
   {
    "duration": 30,
    "start_time": "2022-11-14T21:22:28.028Z"
   },
   {
    "duration": 8,
    "start_time": "2022-11-14T21:22:28.059Z"
   },
   {
    "duration": 8,
    "start_time": "2022-11-14T21:22:28.068Z"
   },
   {
    "duration": 13,
    "start_time": "2022-11-14T21:22:28.077Z"
   },
   {
    "duration": 17,
    "start_time": "2022-11-14T21:22:28.091Z"
   },
   {
    "duration": 15,
    "start_time": "2022-11-14T21:22:28.109Z"
   },
   {
    "duration": 3,
    "start_time": "2022-11-14T21:22:28.125Z"
   },
   {
    "duration": 39,
    "start_time": "2022-11-14T21:22:28.130Z"
   },
   {
    "duration": 4,
    "start_time": "2022-11-14T21:22:28.171Z"
   },
   {
    "duration": 3,
    "start_time": "2022-11-14T21:22:28.177Z"
   },
   {
    "duration": 13,
    "start_time": "2022-11-14T21:22:28.181Z"
   },
   {
    "duration": 1188,
    "start_time": "2022-11-14T21:22:28.195Z"
   },
   {
    "duration": 0,
    "start_time": "2022-11-14T21:22:29.384Z"
   },
   {
    "duration": 0,
    "start_time": "2022-11-14T21:22:29.386Z"
   },
   {
    "duration": 0,
    "start_time": "2022-11-14T21:22:29.387Z"
   },
   {
    "duration": 0,
    "start_time": "2022-11-14T21:22:29.387Z"
   },
   {
    "duration": 0,
    "start_time": "2022-11-14T21:22:29.388Z"
   },
   {
    "duration": 0,
    "start_time": "2022-11-14T21:22:29.389Z"
   },
   {
    "duration": 0,
    "start_time": "2022-11-14T21:22:29.390Z"
   },
   {
    "duration": 0,
    "start_time": "2022-11-14T21:22:29.391Z"
   },
   {
    "duration": 0,
    "start_time": "2022-11-14T21:22:29.392Z"
   },
   {
    "duration": 33,
    "start_time": "2022-11-14T21:23:29.399Z"
   },
   {
    "duration": 30,
    "start_time": "2022-11-14T21:23:40.764Z"
   },
   {
    "duration": 25,
    "start_time": "2022-11-14T21:23:54.127Z"
   },
   {
    "duration": 32,
    "start_time": "2022-11-14T21:24:23.512Z"
   },
   {
    "duration": 304,
    "start_time": "2022-11-14T21:24:32.968Z"
   },
   {
    "duration": 29,
    "start_time": "2022-11-14T21:24:49.008Z"
   },
   {
    "duration": 27,
    "start_time": "2022-11-14T21:25:11.351Z"
   },
   {
    "duration": 29,
    "start_time": "2022-11-14T21:25:23.624Z"
   },
   {
    "duration": 32,
    "start_time": "2022-11-14T21:25:37.025Z"
   },
   {
    "duration": 301,
    "start_time": "2022-11-14T21:25:47.882Z"
   },
   {
    "duration": 32,
    "start_time": "2022-11-14T21:25:56.432Z"
   },
   {
    "duration": 29,
    "start_time": "2022-11-14T21:26:09.553Z"
   },
   {
    "duration": 118,
    "start_time": "2022-11-14T21:26:52.649Z"
   },
   {
    "duration": 35,
    "start_time": "2022-11-14T21:27:13.643Z"
   },
   {
    "duration": 114,
    "start_time": "2022-11-14T21:27:27.432Z"
   },
   {
    "duration": 107,
    "start_time": "2022-11-14T21:28:00.011Z"
   },
   {
    "duration": 28,
    "start_time": "2022-11-14T21:28:46.763Z"
   },
   {
    "duration": 108,
    "start_time": "2022-11-14T21:28:50.770Z"
   },
   {
    "duration": 113,
    "start_time": "2022-11-14T21:29:11.913Z"
   },
   {
    "duration": 36,
    "start_time": "2022-11-14T21:30:15.546Z"
   },
   {
    "duration": 23,
    "start_time": "2022-11-14T21:31:10.643Z"
   },
   {
    "duration": 28,
    "start_time": "2022-11-14T21:31:20.114Z"
   },
   {
    "duration": 33,
    "start_time": "2022-11-14T21:31:35.041Z"
   },
   {
    "duration": 27,
    "start_time": "2022-11-14T21:31:40.008Z"
   },
   {
    "duration": 21,
    "start_time": "2022-11-14T21:31:50.819Z"
   },
   {
    "duration": 33,
    "start_time": "2022-11-14T21:31:59.700Z"
   },
   {
    "duration": 101,
    "start_time": "2022-11-14T21:33:06.275Z"
   },
   {
    "duration": 112,
    "start_time": "2022-11-14T21:33:19.576Z"
   },
   {
    "duration": 32,
    "start_time": "2022-11-14T21:34:37.164Z"
   },
   {
    "duration": 95,
    "start_time": "2022-11-14T21:35:01.020Z"
   },
   {
    "duration": 30,
    "start_time": "2022-11-14T21:35:12.124Z"
   },
   {
    "duration": 30,
    "start_time": "2022-11-14T21:35:27.340Z"
   },
   {
    "duration": 30,
    "start_time": "2022-11-14T21:35:41.668Z"
   },
   {
    "duration": 31,
    "start_time": "2022-11-14T21:35:49.852Z"
   },
   {
    "duration": 98,
    "start_time": "2022-11-14T21:35:53.628Z"
   },
   {
    "duration": 30,
    "start_time": "2022-11-14T21:36:09.430Z"
   },
   {
    "duration": 166,
    "start_time": "2022-11-14T21:36:42.909Z"
   },
   {
    "duration": 30,
    "start_time": "2022-11-14T21:37:20.503Z"
   },
   {
    "duration": 97,
    "start_time": "2022-11-14T21:37:22.620Z"
   },
   {
    "duration": 32,
    "start_time": "2022-11-14T21:38:34.967Z"
   },
   {
    "duration": 121,
    "start_time": "2022-11-14T21:39:17.782Z"
   },
   {
    "duration": 68,
    "start_time": "2022-11-14T21:43:46.951Z"
   },
   {
    "duration": 31,
    "start_time": "2022-11-14T21:44:36.703Z"
   },
   {
    "duration": 125,
    "start_time": "2022-11-14T21:44:54.927Z"
   },
   {
    "duration": 32,
    "start_time": "2022-11-14T21:45:21.847Z"
   },
   {
    "duration": 28,
    "start_time": "2022-11-14T21:45:29.827Z"
   },
   {
    "duration": 98,
    "start_time": "2022-11-14T21:45:33.969Z"
   },
   {
    "duration": 32,
    "start_time": "2022-11-14T21:45:38.896Z"
   },
   {
    "duration": 28,
    "start_time": "2022-11-14T21:45:44.240Z"
   },
   {
    "duration": 115,
    "start_time": "2022-11-14T21:45:45.737Z"
   },
   {
    "duration": 29,
    "start_time": "2022-11-14T21:47:15.249Z"
   },
   {
    "duration": 1054,
    "start_time": "2022-11-14T22:13:57.485Z"
   },
   {
    "duration": 70,
    "start_time": "2022-11-14T22:13:58.541Z"
   },
   {
    "duration": 18,
    "start_time": "2022-11-14T22:13:58.612Z"
   },
   {
    "duration": 14,
    "start_time": "2022-11-14T22:13:58.633Z"
   },
   {
    "duration": 9,
    "start_time": "2022-11-14T22:13:58.648Z"
   },
   {
    "duration": 40,
    "start_time": "2022-11-14T22:13:58.659Z"
   },
   {
    "duration": 3,
    "start_time": "2022-11-14T22:13:58.701Z"
   },
   {
    "duration": 15,
    "start_time": "2022-11-14T22:13:58.706Z"
   },
   {
    "duration": 14,
    "start_time": "2022-11-14T22:13:58.722Z"
   },
   {
    "duration": 7,
    "start_time": "2022-11-14T22:13:58.738Z"
   },
   {
    "duration": 10,
    "start_time": "2022-11-14T22:13:58.746Z"
   },
   {
    "duration": 43,
    "start_time": "2022-11-14T22:13:58.758Z"
   },
   {
    "duration": 9,
    "start_time": "2022-11-14T22:13:58.803Z"
   },
   {
    "duration": 20,
    "start_time": "2022-11-14T22:13:58.813Z"
   },
   {
    "duration": 18,
    "start_time": "2022-11-14T22:13:58.834Z"
   },
   {
    "duration": 24,
    "start_time": "2022-11-14T22:13:58.854Z"
   },
   {
    "duration": 19,
    "start_time": "2022-11-14T22:13:58.880Z"
   },
   {
    "duration": 3,
    "start_time": "2022-11-14T22:13:58.900Z"
   },
   {
    "duration": 36,
    "start_time": "2022-11-14T22:13:58.905Z"
   },
   {
    "duration": 23,
    "start_time": "2022-11-14T22:13:58.942Z"
   },
   {
    "duration": 12,
    "start_time": "2022-11-14T22:13:58.966Z"
   },
   {
    "duration": 23,
    "start_time": "2022-11-14T22:13:58.979Z"
   },
   {
    "duration": 49,
    "start_time": "2022-11-14T22:13:59.004Z"
   },
   {
    "duration": 143,
    "start_time": "2022-11-14T22:13:59.054Z"
   },
   {
    "duration": 41,
    "start_time": "2022-11-14T22:13:59.199Z"
   },
   {
    "duration": 203,
    "start_time": "2022-11-14T22:13:59.242Z"
   },
   {
    "duration": 0,
    "start_time": "2022-11-14T22:13:59.447Z"
   },
   {
    "duration": 0,
    "start_time": "2022-11-14T22:13:59.448Z"
   },
   {
    "duration": 0,
    "start_time": "2022-11-14T22:13:59.449Z"
   },
   {
    "duration": 0,
    "start_time": "2022-11-14T22:13:59.450Z"
   },
   {
    "duration": 0,
    "start_time": "2022-11-14T22:13:59.451Z"
   },
   {
    "duration": 0,
    "start_time": "2022-11-14T22:13:59.452Z"
   },
   {
    "duration": 106,
    "start_time": "2022-11-14T22:14:17.246Z"
   },
   {
    "duration": 1144,
    "start_time": "2022-11-14T22:14:45.755Z"
   },
   {
    "duration": 77,
    "start_time": "2022-11-14T22:14:46.901Z"
   },
   {
    "duration": 20,
    "start_time": "2022-11-14T22:14:46.980Z"
   },
   {
    "duration": 22,
    "start_time": "2022-11-14T22:14:47.003Z"
   },
   {
    "duration": 19,
    "start_time": "2022-11-14T22:14:47.026Z"
   },
   {
    "duration": 39,
    "start_time": "2022-11-14T22:14:47.048Z"
   },
   {
    "duration": 4,
    "start_time": "2022-11-14T22:14:47.089Z"
   },
   {
    "duration": 14,
    "start_time": "2022-11-14T22:14:47.095Z"
   },
   {
    "duration": 27,
    "start_time": "2022-11-14T22:14:47.110Z"
   },
   {
    "duration": 10,
    "start_time": "2022-11-14T22:14:47.141Z"
   },
   {
    "duration": 15,
    "start_time": "2022-11-14T22:14:47.153Z"
   },
   {
    "duration": 43,
    "start_time": "2022-11-14T22:14:47.170Z"
   },
   {
    "duration": 9,
    "start_time": "2022-11-14T22:14:47.215Z"
   },
   {
    "duration": 23,
    "start_time": "2022-11-14T22:14:47.226Z"
   },
   {
    "duration": 32,
    "start_time": "2022-11-14T22:14:47.251Z"
   },
   {
    "duration": 26,
    "start_time": "2022-11-14T22:14:47.285Z"
   },
   {
    "duration": 16,
    "start_time": "2022-11-14T22:14:47.313Z"
   },
   {
    "duration": 3,
    "start_time": "2022-11-14T22:14:47.331Z"
   },
   {
    "duration": 21,
    "start_time": "2022-11-14T22:14:47.336Z"
   },
   {
    "duration": 9,
    "start_time": "2022-11-14T22:14:47.359Z"
   },
   {
    "duration": 28,
    "start_time": "2022-11-14T22:14:47.370Z"
   },
   {
    "duration": 24,
    "start_time": "2022-11-14T22:14:47.399Z"
   },
   {
    "duration": 38,
    "start_time": "2022-11-14T22:14:47.425Z"
   },
   {
    "duration": 143,
    "start_time": "2022-11-14T22:14:47.465Z"
   },
   {
    "duration": 39,
    "start_time": "2022-11-14T22:14:47.610Z"
   },
   {
    "duration": 31,
    "start_time": "2022-11-14T22:14:47.651Z"
   },
   {
    "duration": 144,
    "start_time": "2022-11-14T22:14:47.684Z"
   },
   {
    "duration": 31,
    "start_time": "2022-11-14T22:14:47.834Z"
   },
   {
    "duration": 131,
    "start_time": "2022-11-14T22:14:47.867Z"
   },
   {
    "duration": 45,
    "start_time": "2022-11-14T22:14:48.000Z"
   },
   {
    "duration": 140,
    "start_time": "2022-11-14T22:14:48.047Z"
   },
   {
    "duration": 109,
    "start_time": "2022-11-14T22:15:17.227Z"
   },
   {
    "duration": 9,
    "start_time": "2022-11-14T22:15:28.790Z"
   },
   {
    "duration": 47,
    "start_time": "2022-11-24T18:04:26.217Z"
   },
   {
    "duration": 1236,
    "start_time": "2022-11-24T18:04:37.775Z"
   },
   {
    "duration": 340,
    "start_time": "2022-11-24T18:04:39.014Z"
   },
   {
    "duration": 3,
    "start_time": "2022-11-24T18:04:39.355Z"
   },
   {
    "duration": 21,
    "start_time": "2022-11-24T18:04:39.360Z"
   },
   {
    "duration": 16,
    "start_time": "2022-11-24T18:04:39.382Z"
   },
   {
    "duration": 9,
    "start_time": "2022-11-24T18:04:39.400Z"
   },
   {
    "duration": 39,
    "start_time": "2022-11-24T18:04:39.411Z"
   },
   {
    "duration": 4,
    "start_time": "2022-11-24T18:04:39.451Z"
   },
   {
    "duration": 11,
    "start_time": "2022-11-24T18:04:39.456Z"
   },
   {
    "duration": 5,
    "start_time": "2022-11-24T18:04:39.470Z"
   },
   {
    "duration": 9,
    "start_time": "2022-11-24T18:04:39.477Z"
   },
   {
    "duration": 4,
    "start_time": "2022-11-24T18:04:39.488Z"
   },
   {
    "duration": 69,
    "start_time": "2022-11-24T18:04:39.494Z"
   },
   {
    "duration": 10,
    "start_time": "2022-11-24T18:04:39.565Z"
   },
   {
    "duration": 6,
    "start_time": "2022-11-24T18:04:39.576Z"
   },
   {
    "duration": 13,
    "start_time": "2022-11-24T18:04:39.583Z"
   },
   {
    "duration": 37,
    "start_time": "2022-11-24T18:04:39.598Z"
   },
   {
    "duration": 16,
    "start_time": "2022-11-24T18:04:39.637Z"
   },
   {
    "duration": 4,
    "start_time": "2022-11-24T18:04:39.654Z"
   },
   {
    "duration": 18,
    "start_time": "2022-11-24T18:04:39.659Z"
   },
   {
    "duration": 6,
    "start_time": "2022-11-24T18:04:39.679Z"
   },
   {
    "duration": 3,
    "start_time": "2022-11-24T18:04:39.687Z"
   },
   {
    "duration": 12,
    "start_time": "2022-11-24T18:04:39.721Z"
   },
   {
    "duration": 36,
    "start_time": "2022-11-24T18:04:39.734Z"
   },
   {
    "duration": 140,
    "start_time": "2022-11-24T18:04:39.772Z"
   },
   {
    "duration": 37,
    "start_time": "2022-11-24T18:04:39.920Z"
   },
   {
    "duration": 29,
    "start_time": "2022-11-24T18:04:39.959Z"
   },
   {
    "duration": 148,
    "start_time": "2022-11-24T18:04:39.991Z"
   },
   {
    "duration": 29,
    "start_time": "2022-11-24T18:04:40.140Z"
   },
   {
    "duration": 135,
    "start_time": "2022-11-24T18:04:40.170Z"
   },
   {
    "duration": 50,
    "start_time": "2022-11-24T18:04:40.310Z"
   },
   {
    "duration": 128,
    "start_time": "2022-11-24T18:04:40.363Z"
   }
  ],
  "colab": {
   "name": "dpp_template_part2.ipynb",
   "provenance": []
  },
  "kernelspec": {
   "display_name": "Python 3 (ipykernel)",
   "language": "python",
   "name": "python3"
  },
  "language_info": {
   "codemirror_mode": {
    "name": "ipython",
    "version": 3
   },
   "file_extension": ".py",
   "mimetype": "text/x-python",
   "name": "python",
   "nbconvert_exporter": "python",
   "pygments_lexer": "ipython3",
   "version": "3.9.13"
  },
  "toc": {
   "base_numbering": 1,
   "nav_menu": {},
   "number_sections": true,
   "sideBar": true,
   "skip_h1_title": true,
   "title_cell": "Table of Contents",
   "title_sidebar": "Contents",
   "toc_cell": false,
   "toc_position": {},
   "toc_section_display": true,
   "toc_window_display": false
  }
 },
 "nbformat": 4,
 "nbformat_minor": 5
}
